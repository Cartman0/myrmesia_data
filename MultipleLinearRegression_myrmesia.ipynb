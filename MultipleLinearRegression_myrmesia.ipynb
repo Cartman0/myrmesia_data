{
 "cells": [
  {
   "cell_type": "markdown",
   "metadata": {
    "toc": "true"
   },
   "source": [
    "# Table of Contents\n",
    " <p><div class=\"lev1\"><a href=\"#多変量解析-1\"><span class=\"toc-item-num\">1&nbsp;&nbsp;</span>多変量解析</a></div><div class=\"lev2\"><a href=\"#Problem-1.1\"><span class=\"toc-item-num\">1.1&nbsp;&nbsp;</span>Problem</a></div><div class=\"lev3\"><a href=\"#キバハリアリの特徴-1.1.1\"><span class=\"toc-item-num\">1.1.1&nbsp;&nbsp;</span>キバハリアリの特徴</a></div><div class=\"lev2\"><a href=\"#Plan1：データ収集の計画-1.2\"><span class=\"toc-item-num\">1.2&nbsp;&nbsp;</span>Plan1：データ収集の計画</a></div><div class=\"lev2\"><a href=\"#Plan2：データ解析の計画-1.3\"><span class=\"toc-item-num\">1.3&nbsp;&nbsp;</span>Plan2：データ解析の計画</a></div><div class=\"lev2\"><a href=\"#Data-1.4\"><span class=\"toc-item-num\">1.4&nbsp;&nbsp;</span>Data</a></div><div class=\"lev2\"><a href=\"#Analysis:重回帰-1.5\"><span class=\"toc-item-num\">1.5&nbsp;&nbsp;</span>Analysis:重回帰</a></div><div class=\"lev3\"><a href=\"#(1)-csvデータの読み込み-1.5.1\"><span class=\"toc-item-num\">1.5.1&nbsp;&nbsp;</span>(1) csvデータの読み込み</a></div><div class=\"lev3\"><a href=\"#(2)欠損値の操作-1.5.2\"><span class=\"toc-item-num\">1.5.2&nbsp;&nbsp;</span>(2)欠損値の操作</a></div><div class=\"lev3\"><a href=\"#(3)基本統計量を確認-1.5.3\"><span class=\"toc-item-num\">1.5.3&nbsp;&nbsp;</span>(3)基本統計量を確認</a></div><div class=\"lev3\"><a href=\"#(3)-statsmodels-で回帰モデル-1.5.4\"><span class=\"toc-item-num\">1.5.4&nbsp;&nbsp;</span>(3) statsmodels で回帰モデル</a></div><div class=\"lev3\"><a href=\"#変数選択-1.5.5\"><span class=\"toc-item-num\">1.5.5&nbsp;&nbsp;</span>変数選択</a></div><div class=\"lev4\"><a href=\"#欠損値なしデータから変数の候補を見つける-1.5.5.1\"><span class=\"toc-item-num\">1.5.5.1&nbsp;&nbsp;</span>欠損値なしデータから変数の候補を見つける</a></div><div class=\"lev4\"><a href=\"#候補変数から変数選択をする-1.5.5.2\"><span class=\"toc-item-num\">1.5.5.2&nbsp;&nbsp;</span>候補変数から変数選択をする</a></div><div class=\"lev3\"><a href=\"#残差とテコ比の検討-1.5.6\"><span class=\"toc-item-num\">1.5.6&nbsp;&nbsp;</span>残差とテコ比の検討</a></div><div class=\"lev4\"><a href=\"#inflence-plot-1.5.6.1\"><span class=\"toc-item-num\">1.5.6.1&nbsp;&nbsp;</span>inflence plot</a></div><div class=\"lev5\"><a href=\"#テコ比の二乗プロット-Leverage-Resid2-Plot-1.5.6.1.1\"><span class=\"toc-item-num\">1.5.6.1.1&nbsp;&nbsp;</span>テコ比の二乗プロット Leverage-Resid2 Plot</a></div><div class=\"lev3\"><a href=\"#回帰式の利用-1.5.7\"><span class=\"toc-item-num\">1.5.7&nbsp;&nbsp;</span>回帰式の利用</a></div><div class=\"lev4\"><a href=\"#statsmodelでの予測区間をチェック-1.5.7.1\"><span class=\"toc-item-num\">1.5.7.1&nbsp;&nbsp;</span>statsmodelでの予測区間をチェック</a></div><div class=\"lev4\"><a href=\"#信頼区間,予測区間を計算して予測-1.5.7.2\"><span class=\"toc-item-num\">1.5.7.2&nbsp;&nbsp;</span>信頼区間,予測区間を計算して予測</a></div>"
   ]
  },
  {
   "cell_type": "code",
   "execution_count": 1,
   "metadata": {
    "collapsed": true
   },
   "outputs": [],
   "source": [
    "# scipy\n",
    "import scipy as sp\n",
    "import scipy.stats as stats \n",
    "\n",
    "# pandas \n",
    "import pandas as pd\n",
    "\n",
    "# statsmodels\n",
    "import statsmodels.api as sm\n",
    "import statsmodels.formula.api as smf\n",
    "\n",
    "# matplotlib\n",
    "import matplotlib.pyplot as plt\n",
    "from matplotlib import cm\n",
    "from mpl_toolkits.mplot3d import Axes3D\n",
    "import matplotlib.font_manager as fm\n",
    "fp = fm.FontProperties(fname='/Windows/Fonts/YuGothM.ttc')"
   ]
  },
  {
   "cell_type": "markdown",
   "metadata": {},
   "source": [
    "# 多変量解析"
   ]
  },
  {
   "cell_type": "markdown",
   "metadata": {},
   "source": [
    "## Problem"
   ]
  },
  {
   "cell_type": "markdown",
   "metadata": {},
   "source": [
    "「キバハアリの頭幅は各部位の大きさによって決まるのか」\n",
    "\n",
    "をいう問題を考える．\n"
   ]
  },
  {
   "cell_type": "markdown",
   "metadata": {},
   "source": [
    "### キバハリアリの特徴"
   ]
  },
  {
   "cell_type": "markdown",
   "metadata": {},
   "source": [
    ">キバハリアリはオーストラリア大陸およびその周辺に分布（生息）するアリで，\n",
    "キバハリアリ属として知られている，このアリは，\"bulldog ants\" と呼ばれ，\n",
    "多くのアリ研究者や生物学者の注目を集めている．\n",
    "その理由はキバハリアリがアリ科(family Formicidae)の中でも祖先的な形質を多く持っていて，\n",
    "\"原始的\"なアリとされているためである．\n",
    "\n",
    "> いくつかの種は\"jack jumper\" と言われるように，飛び跳ねることができる．\n",
    "\n",
    "> ほとんどの種はかなり攻撃的で，人が刺されるとアレルギーになったり，死ぬことさえある．\n",
    "\n",
    ">NagatomoNakamura, \"クラスター化の統計的評価とその応用\", 1995年3月, p.130 9.1.キバハリアリの特徴"
   ]
  },
  {
   "cell_type": "markdown",
   "metadata": {},
   "source": [
    "- キバハリアリの外見の特徴\n",
    "\n",
    "外見の特徴は，\n",
    "\n",
    "> - (1)非常に大きなあご\n",
    "> - (2)発達した複眼と単眼\n",
    "> - (3)明瞭に区別される胸部の亜区分\n",
    "> - (4)2つの節からなる腹柄\n",
    "> - (5)強力で機能的な刺針\n",
    "\n",
    "> NagatomoNakamura, \"クラスター化の統計的評価とその応用\", 1995年3月, p.130 9.1.キバハリアリの特徴\n",
    "\n",
    "となっている．"
   ]
  },
  {
   "cell_type": "markdown",
   "metadata": {},
   "source": [
    "キバハリアリの画像は，\n",
    "\n",
    "> <img src=\"https://upload.wikimedia.org/wikipedia/commons/a/a6/Bullant_apr07.jpg\" title=\"キバハリアリ\" width=\"60%\"/>\n",
    "> ブルドック属 - Wikipedia https://ja.wikipedia.org/wiki/%E3%83%96%E3%83%AB%E3%83%89%E3%83%83%E3%82%B0%E3%82%A2%E3%83%AA%E5%B1%9E"
   ]
  },
  {
   "cell_type": "markdown",
   "metadata": {},
   "source": [
    "myrmesia という名前について：\n",
    "\n",
    ">ファブリキウスは1804年に新属Myrmecia（キバハリアリ属）を創設する\n",
    "\n",
    ">ブルドック属 - Wikipedia https://ja.wikipedia.org/wiki/%E3%83%96%E3%83%AB%E3%83%89%E3%83%83%E3%82%B0%E3%82%A2%E3%83%AA%E5%B1%9E "
   ]
  },
  {
   "cell_type": "markdown",
   "metadata": {},
   "source": [
    "キバハリアリの頭の画像は，\n",
    "\n",
    "><img src=\"https://upload.wikimedia.org/wikipedia/commons/2/2c/Bullant_head_detail.jpg\" width=\"50%\" title=\"キバハリアリの頭\">\n",
    "> ブルドック属 - Wikipedia https://upload.wikimedia.org/wikipedia/commons/2/2c/Bullant_head_detail.jpg\" "
   ]
  },
  {
   "cell_type": "markdown",
   "metadata": {},
   "source": [
    "## Plan1：データ収集の計画"
   ]
  },
  {
   "cell_type": "markdown",
   "metadata": {},
   "source": [
    "今回は，既に収集されているデータを使う．\n",
    "\n",
    "モデルに扱う変数はすべて量的変数とする．"
   ]
  },
  {
   "cell_type": "markdown",
   "metadata": {},
   "source": [
    "## Plan2：データ解析の計画"
   ]
  },
  {
   "cell_type": "markdown",
   "metadata": {},
   "source": [
    "- 単回帰\n",
    "\n",
    "目的変数$y$を頭幅，説明変数をほかの部位$x_1$ として\n",
    "\n",
    "$$\n",
    "y = \\beta_0 + \\beta_1 x_{1} + \\varepsilon , \n",
    "\\varepsilon \\sim N(0, \\sigma^2)\n",
    "$$\n",
    "\n",
    "または\n",
    "\n",
    "- 重回帰\n",
    "\n",
    "$$\n",
    "y = \\beta_0 + \\beta_1 x_{1} + \\beta_2 x_{2} + \\cdots + \\beta_{p}x_{p} + \\varepsilon, \n",
    "(p <= 12), \n",
    "\\varepsilon \\sim N(0, \\sigma^2)\n",
    "$$\n",
    "\n",
    "で説明できないかを考える．"
   ]
  },
  {
   "cell_type": "markdown",
   "metadata": {},
   "source": [
    "## Data"
   ]
  },
  {
   "cell_type": "markdown",
   "metadata": {},
   "source": [
    "キバハリアリの各部位を計測したデータセットには，Ogata(1991)氏が測定したものがある．\n",
    "今回は，「NagatomoNakamura, \"クラスター化の統計的評価とその応用\", 1995年3月, p.197-201, 付録Dキバハリアリの部位測定データ」に載っているデータを使用した．\n",
    "\n",
    "計測部位（特性，変数）は，$12$個からなる．\n",
    "\n",
    "全標本数（標本の大きさ）は，$N=252$になる．\n",
    "\n",
    "> NagatomoNakamura, \"クラスター化の統計的評価とその応用\", 1995年3月, p.131 9.2データセットの特徴"
   ]
  },
  {
   "cell_type": "markdown",
   "metadata": {},
   "source": [
    "種群(SPGroup)は9つに分かれている．\n",
    "Wikipedeia に書かれている各種の特徴を並べると，\n",
    "\n",
    "- aberrans\n",
    "- cephalotes\n",
    "- gulosa\n",
    "\n",
    ">英名にはGiant bulldog ant、Red bulldog antなどがある。働きアリの体長は15〜26mm。25mmを超えるインチ・アンツの一つ。キバハリアリ亜科全体の基準種であると同時に、オオキバハリアリ亜属の基準種に位置づけられる。\n",
    ">\n",
    ">首都キャンベラやシドニーといった大都市周辺で最も普通にみられるキバハリアリである。また、多摩動物公園昆虫園で飼育展示されたり、ペットとして時折輸入されたりもするなど、日本国内で姿を見る機会の比較的多い種である。黒い腹端以外の体色は鮮やかな赤褐色。\n",
    "\n",
    "- mandibularis\n",
    "- nigrocincta\n",
    ">nigrocincta亜属の基準種。本種もしばしば「ジャック・ジャンパー」と呼ばれることがある。頭部は黒色だが、胸部〜腹部は赤褐色と黒色の大まかな縞模様。大顎、触角、脛節はより明るい赤褐色である。\n",
    "\n",
    "- picta\n",
    "\n",
    "- pilosula \n",
    "\n",
    ">ジャックジャンパーアント亜属の基準種。タスマニア島〜オーストラリア最南端付近に分布する。\n",
    "働きアリの体長は12〜14mm、女王は14〜16mm。体色は若干赤みがかりにぶい光沢のある黒褐色で、脚と触角はやや明るい赤褐色。キバハリアリとしてはやや小型であるが、敵や獲物に飛び跳ねて襲いかかるため、「ジャック・ジャンパー」の渾名で知られる。前方跳躍蟻、ジャンパーに類別されるキバハリアリの最も有名な種の一つ。 \n",
    "\n",
    "> 首都キャンベラ近郊の住宅造成地、農場にも生息するため、刺される被害が多い。本種の毒は人体にアレルギーを生じさせやすく、アナフィラキシーショックによって最悪死亡する例もある。\n",
    "\n",
    "- tepperi\n",
    "\n",
    "- urens\n",
    "\n",
    ">- [https://ja.wikipedia.org/wiki/%E3%83%96%E3%83%AB%E3%83%89%E3%83%83%E3%82%B0%E3%82%A2%E3%83%AA%E5%B1%9E#.E3.81.8A.E3.82.82.E3.81.AA.E7.A8.AE]\n",
    ">- NagatomoNakamura, \"クラスター化の統計的評価とその応用\", 1995年3月, p.131 9.2データセットの特徴\n"
   ]
  },
  {
   "cell_type": "markdown",
   "metadata": {},
   "source": [
    "Data\n",
    "\n",
    "計測した部位は以下になる．\n",
    "\n",
    "- HW(Head Width):頭幅\n",
    "- HL(Head Length):頭長\n",
    "- SL(Space Length): 柄節長\n",
    "- ML(Mandible Length): 大あご長\n",
    "- WL(Weber's Length of mesosoma): ウェーバーの胸長\n",
    "- PrW(Pronotal width): 前胸幅\n",
    "- HFL(Hind femoral Length): 後脚腿節長\n",
    "- PtW(Petiole Width): 腹柄節幅\n",
    "- PtL(Petiole Length): 腹柄節長\n",
    "- Ppw(Postpetiole Width): 後柄節幅\n",
    "- PpL(Postpetiole Length): 後柄節長\n",
    "- GW(Gastral width):腹部幅\n",
    "\n",
    "計測値は $20$ で割ると $[mm]$ の単位になる．\n",
    "つまり，$20[mm]$ を1単位として計測している．\n",
    "\n",
    "\n",
    "表の中のデータの \"-\" は欠損値を表す．\n",
    "\n",
    "部位を図で表すと，\n",
    "\n",
    "> <img  src=\"https://github.com/Cartman0/myrmesia_data/blob/master/img/myrmesia_region_measurement.jpg?raw=true\"/>\n",
    "> NagatomoNakamura, \"クラスター化の統計的評価とその応用\", 1995年3月, p.130 図9.1キバハリアリの計測部位"
   ]
  },
  {
   "cell_type": "markdown",
   "metadata": {},
   "source": [
    "## Analysis:重回帰"
   ]
  },
  {
   "cell_type": "markdown",
   "metadata": {},
   "source": [
    "- 頭幅 $hw$ を目的変数\n",
    "- その他の変数を説明変数\n",
    "\n",
    "とするような重回帰を考える．\n",
    "変数選択をし，もっともよく目的変数を説明できる変数のみを求める．"
   ]
  },
  {
   "cell_type": "markdown",
   "metadata": {},
   "source": [
    "### (1) csvデータの読み込み"
   ]
  },
  {
   "cell_type": "markdown",
   "metadata": {},
   "source": [
    "(1). まず，pandasでcsvデータを読む．"
   ]
  },
  {
   "cell_type": "code",
   "execution_count": 2,
   "metadata": {
    "collapsed": false,
    "scrolled": true
   },
   "outputs": [
    {
     "data": {
      "text/html": [
       "<div>\n",
       "<table border=\"1\" class=\"dataframe\">\n",
       "  <thead>\n",
       "    <tr style=\"text-align: right;\">\n",
       "      <th></th>\n",
       "      <th>ID-SpeciesName</th>\n",
       "      <th>SPGroup</th>\n",
       "      <th>HW</th>\n",
       "      <th>HL</th>\n",
       "      <th>SL</th>\n",
       "      <th>ML</th>\n",
       "      <th>WL</th>\n",
       "      <th>PrW</th>\n",
       "      <th>HFL</th>\n",
       "      <th>PtW</th>\n",
       "      <th>PtL</th>\n",
       "      <th>Ppw</th>\n",
       "      <th>PpL</th>\n",
       "      <th>GW</th>\n",
       "    </tr>\n",
       "  </thead>\n",
       "  <tbody>\n",
       "    <tr>\n",
       "      <th>0</th>\n",
       "      <td>01aberrans</td>\n",
       "      <td>aberrans</td>\n",
       "      <td>59</td>\n",
       "      <td>58</td>\n",
       "      <td>40</td>\n",
       "      <td>47</td>\n",
       "      <td>84</td>\n",
       "      <td>40</td>\n",
       "      <td>60</td>\n",
       "      <td>20</td>\n",
       "      <td>25</td>\n",
       "      <td>34</td>\n",
       "      <td>26</td>\n",
       "      <td>50</td>\n",
       "    </tr>\n",
       "    <tr>\n",
       "      <th>1</th>\n",
       "      <td>02aberrans</td>\n",
       "      <td>aberrans</td>\n",
       "      <td>53</td>\n",
       "      <td>53</td>\n",
       "      <td>37</td>\n",
       "      <td>40</td>\n",
       "      <td>77</td>\n",
       "      <td>34</td>\n",
       "      <td>58</td>\n",
       "      <td>18</td>\n",
       "      <td>22</td>\n",
       "      <td>30</td>\n",
       "      <td>24</td>\n",
       "      <td>45</td>\n",
       "    </tr>\n",
       "    <tr>\n",
       "      <th>2</th>\n",
       "      <td>03aberrans</td>\n",
       "      <td>aberrans</td>\n",
       "      <td>63</td>\n",
       "      <td>61</td>\n",
       "      <td>41</td>\n",
       "      <td>48</td>\n",
       "      <td>89</td>\n",
       "      <td>40</td>\n",
       "      <td>65</td>\n",
       "      <td>22</td>\n",
       "      <td>25</td>\n",
       "      <td>38</td>\n",
       "      <td>28</td>\n",
       "      <td>55</td>\n",
       "    </tr>\n",
       "    <tr>\n",
       "      <th>3</th>\n",
       "      <td>01excavata</td>\n",
       "      <td>aberrans</td>\n",
       "      <td>57</td>\n",
       "      <td>55</td>\n",
       "      <td>37</td>\n",
       "      <td>44</td>\n",
       "      <td>82</td>\n",
       "      <td>39</td>\n",
       "      <td>56</td>\n",
       "      <td>20</td>\n",
       "      <td>25</td>\n",
       "      <td>33</td>\n",
       "      <td>22</td>\n",
       "      <td>48</td>\n",
       "    </tr>\n",
       "    <tr>\n",
       "      <th>4</th>\n",
       "      <td>02excavata</td>\n",
       "      <td>aberrans</td>\n",
       "      <td>53</td>\n",
       "      <td>52</td>\n",
       "      <td>35</td>\n",
       "      <td>41</td>\n",
       "      <td>75</td>\n",
       "      <td>35</td>\n",
       "      <td>50</td>\n",
       "      <td>17</td>\n",
       "      <td>22</td>\n",
       "      <td>30</td>\n",
       "      <td>21</td>\n",
       "      <td>43</td>\n",
       "    </tr>\n",
       "  </tbody>\n",
       "</table>\n",
       "</div>"
      ],
      "text/plain": [
       "  ID-SpeciesName   SPGroup  HW  HL  SL  ML  WL PrW HFL PtW PtL Ppw PpL  GW\n",
       "0     01aberrans  aberrans  59  58  40  47  84  40  60  20  25  34  26  50\n",
       "1     02aberrans  aberrans  53  53  37  40  77  34  58  18  22  30  24  45\n",
       "2     03aberrans  aberrans  63  61  41  48  89  40  65  22  25  38  28  55\n",
       "3     01excavata  aberrans  57  55  37  44  82  39  56  20  25  33  22  48\n",
       "4     02excavata  aberrans  53  52  35  41  75  35  50  17  22  30  21  43"
      ]
     },
     "execution_count": 2,
     "metadata": {},
     "output_type": "execute_result"
    }
   ],
   "source": [
    "myrmesia_df = pd.read_csv(\"myrmesia_data.csv\", encoding=\"utf-8\")\n",
    "myrmesia_df.head(5)"
   ]
  },
  {
   "cell_type": "code",
   "execution_count": 3,
   "metadata": {
    "collapsed": false
   },
   "outputs": [
    {
     "data": {
      "text/plain": [
       "252"
      ]
     },
     "execution_count": 3,
     "metadata": {},
     "output_type": "execute_result"
    }
   ],
   "source": [
    "# 全標本数を確認\n",
    "total_n = myrmesia_df[\"ID-SpeciesName\"].count()\n",
    "total_n"
   ]
  },
  {
   "cell_type": "markdown",
   "metadata": {},
   "source": [
    "### (2)欠損値の操作"
   ]
  },
  {
   "cell_type": "markdown",
   "metadata": {},
   "source": [
    "今回は欠損値のある標本を除外する．"
   ]
  },
  {
   "cell_type": "code",
   "execution_count": 4,
   "metadata": {
    "collapsed": false
   },
   "outputs": [
    {
     "data": {
      "text/html": [
       "<div>\n",
       "<table border=\"1\" class=\"dataframe\">\n",
       "  <thead>\n",
       "    <tr style=\"text-align: right;\">\n",
       "      <th></th>\n",
       "      <th>ID-SpeciesName</th>\n",
       "      <th>SPGroup</th>\n",
       "      <th>HW</th>\n",
       "      <th>HL</th>\n",
       "      <th>SL</th>\n",
       "      <th>ML</th>\n",
       "      <th>WL</th>\n",
       "      <th>PrW</th>\n",
       "      <th>HFL</th>\n",
       "      <th>PtW</th>\n",
       "      <th>PtL</th>\n",
       "      <th>Ppw</th>\n",
       "      <th>PpL</th>\n",
       "      <th>GW</th>\n",
       "    </tr>\n",
       "  </thead>\n",
       "  <tbody>\n",
       "    <tr>\n",
       "      <th>0</th>\n",
       "      <td>01aberrans</td>\n",
       "      <td>aberrans</td>\n",
       "      <td>59</td>\n",
       "      <td>58</td>\n",
       "      <td>40</td>\n",
       "      <td>47</td>\n",
       "      <td>84</td>\n",
       "      <td>40</td>\n",
       "      <td>60</td>\n",
       "      <td>20</td>\n",
       "      <td>25</td>\n",
       "      <td>34</td>\n",
       "      <td>26</td>\n",
       "      <td>50</td>\n",
       "    </tr>\n",
       "    <tr>\n",
       "      <th>1</th>\n",
       "      <td>02aberrans</td>\n",
       "      <td>aberrans</td>\n",
       "      <td>53</td>\n",
       "      <td>53</td>\n",
       "      <td>37</td>\n",
       "      <td>40</td>\n",
       "      <td>77</td>\n",
       "      <td>34</td>\n",
       "      <td>58</td>\n",
       "      <td>18</td>\n",
       "      <td>22</td>\n",
       "      <td>30</td>\n",
       "      <td>24</td>\n",
       "      <td>45</td>\n",
       "    </tr>\n",
       "    <tr>\n",
       "      <th>2</th>\n",
       "      <td>03aberrans</td>\n",
       "      <td>aberrans</td>\n",
       "      <td>63</td>\n",
       "      <td>61</td>\n",
       "      <td>41</td>\n",
       "      <td>48</td>\n",
       "      <td>89</td>\n",
       "      <td>40</td>\n",
       "      <td>65</td>\n",
       "      <td>22</td>\n",
       "      <td>25</td>\n",
       "      <td>38</td>\n",
       "      <td>28</td>\n",
       "      <td>55</td>\n",
       "    </tr>\n",
       "    <tr>\n",
       "      <th>3</th>\n",
       "      <td>01excavata</td>\n",
       "      <td>aberrans</td>\n",
       "      <td>57</td>\n",
       "      <td>55</td>\n",
       "      <td>37</td>\n",
       "      <td>44</td>\n",
       "      <td>82</td>\n",
       "      <td>39</td>\n",
       "      <td>56</td>\n",
       "      <td>20</td>\n",
       "      <td>25</td>\n",
       "      <td>33</td>\n",
       "      <td>22</td>\n",
       "      <td>48</td>\n",
       "    </tr>\n",
       "    <tr>\n",
       "      <th>4</th>\n",
       "      <td>02excavata</td>\n",
       "      <td>aberrans</td>\n",
       "      <td>53</td>\n",
       "      <td>52</td>\n",
       "      <td>35</td>\n",
       "      <td>41</td>\n",
       "      <td>75</td>\n",
       "      <td>35</td>\n",
       "      <td>50</td>\n",
       "      <td>17</td>\n",
       "      <td>22</td>\n",
       "      <td>30</td>\n",
       "      <td>21</td>\n",
       "      <td>43</td>\n",
       "    </tr>\n",
       "    <tr>\n",
       "      <th>5</th>\n",
       "      <td>01froggatti</td>\n",
       "      <td>aberrans</td>\n",
       "      <td>66</td>\n",
       "      <td>61</td>\n",
       "      <td>45</td>\n",
       "      <td>51</td>\n",
       "      <td>95</td>\n",
       "      <td>42</td>\n",
       "      <td>66</td>\n",
       "      <td>23</td>\n",
       "      <td>27</td>\n",
       "      <td>40</td>\n",
       "      <td>25</td>\n",
       "      <td>55</td>\n",
       "    </tr>\n",
       "    <tr>\n",
       "      <th>6</th>\n",
       "      <td>01maura</td>\n",
       "      <td>aberrans</td>\n",
       "      <td>69</td>\n",
       "      <td>67</td>\n",
       "      <td>43</td>\n",
       "      <td>50</td>\n",
       "      <td>90</td>\n",
       "      <td>44</td>\n",
       "      <td>69</td>\n",
       "      <td>25</td>\n",
       "      <td>27</td>\n",
       "      <td>40</td>\n",
       "      <td>26</td>\n",
       "      <td>59</td>\n",
       "    </tr>\n",
       "    <tr>\n",
       "      <th>7</th>\n",
       "      <td>02maura</td>\n",
       "      <td>aberrans</td>\n",
       "      <td>62</td>\n",
       "      <td>62</td>\n",
       "      <td>41</td>\n",
       "      <td>45</td>\n",
       "      <td>88</td>\n",
       "      <td>40</td>\n",
       "      <td>65</td>\n",
       "      <td>21</td>\n",
       "      <td>25</td>\n",
       "      <td>37</td>\n",
       "      <td>22</td>\n",
       "      <td>55</td>\n",
       "    </tr>\n",
       "    <tr>\n",
       "      <th>8</th>\n",
       "      <td>03maura</td>\n",
       "      <td>aberrans</td>\n",
       "      <td>65</td>\n",
       "      <td>63</td>\n",
       "      <td>40</td>\n",
       "      <td>50</td>\n",
       "      <td>NaN</td>\n",
       "      <td>NaN</td>\n",
       "      <td>NaN</td>\n",
       "      <td>NaN</td>\n",
       "      <td>NaN</td>\n",
       "      <td>38</td>\n",
       "      <td>NaN</td>\n",
       "      <td>56</td>\n",
       "    </tr>\n",
       "  </tbody>\n",
       "</table>\n",
       "</div>"
      ],
      "text/plain": [
       "  ID-SpeciesName   SPGroup  HW  HL  SL  ML   WL  PrW  HFL  PtW  PtL Ppw  PpL  \\\n",
       "0     01aberrans  aberrans  59  58  40  47   84   40   60   20   25  34   26   \n",
       "1     02aberrans  aberrans  53  53  37  40   77   34   58   18   22  30   24   \n",
       "2     03aberrans  aberrans  63  61  41  48   89   40   65   22   25  38   28   \n",
       "3     01excavata  aberrans  57  55  37  44   82   39   56   20   25  33   22   \n",
       "4     02excavata  aberrans  53  52  35  41   75   35   50   17   22  30   21   \n",
       "5    01froggatti  aberrans  66  61  45  51   95   42   66   23   27  40   25   \n",
       "6        01maura  aberrans  69  67  43  50   90   44   69   25   27  40   26   \n",
       "7        02maura  aberrans  62  62  41  45   88   40   65   21   25  37   22   \n",
       "8        03maura  aberrans  65  63  40  50  NaN  NaN  NaN  NaN  NaN  38  NaN   \n",
       "\n",
       "   GW  \n",
       "0  50  \n",
       "1  45  \n",
       "2  55  \n",
       "3  48  \n",
       "4  43  \n",
       "5  55  \n",
       "6  59  \n",
       "7  55  \n",
       "8  56  "
      ]
     },
     "execution_count": 4,
     "metadata": {},
     "output_type": "execute_result"
    }
   ],
   "source": [
    "# 欠損値\"-\"の抽出してNanに置き換え\n",
    "myrmesia_nan = myrmesia_df.copy()\n",
    "myrmesia_nan[myrmesia_df==\"-\"] = sp.nan\n",
    "myrmesia_nan.head(9)"
   ]
  },
  {
   "cell_type": "code",
   "execution_count": 5,
   "metadata": {
    "collapsed": false,
    "scrolled": true
   },
   "outputs": [
    {
     "data": {
      "text/html": [
       "<div>\n",
       "<table border=\"1\" class=\"dataframe\">\n",
       "  <thead>\n",
       "    <tr style=\"text-align: right;\">\n",
       "      <th></th>\n",
       "      <th>ID-SpeciesName</th>\n",
       "      <th>SPGroup</th>\n",
       "      <th>HW</th>\n",
       "      <th>HL</th>\n",
       "      <th>SL</th>\n",
       "      <th>ML</th>\n",
       "      <th>WL</th>\n",
       "      <th>PrW</th>\n",
       "      <th>HFL</th>\n",
       "      <th>PtW</th>\n",
       "      <th>PtL</th>\n",
       "      <th>Ppw</th>\n",
       "      <th>PpL</th>\n",
       "      <th>GW</th>\n",
       "    </tr>\n",
       "  </thead>\n",
       "  <tbody>\n",
       "    <tr>\n",
       "      <th>0</th>\n",
       "      <td>01aberrans</td>\n",
       "      <td>aberrans</td>\n",
       "      <td>59</td>\n",
       "      <td>58</td>\n",
       "      <td>40</td>\n",
       "      <td>47</td>\n",
       "      <td>84</td>\n",
       "      <td>40</td>\n",
       "      <td>60</td>\n",
       "      <td>20</td>\n",
       "      <td>25</td>\n",
       "      <td>34</td>\n",
       "      <td>26</td>\n",
       "      <td>50</td>\n",
       "    </tr>\n",
       "    <tr>\n",
       "      <th>1</th>\n",
       "      <td>02aberrans</td>\n",
       "      <td>aberrans</td>\n",
       "      <td>53</td>\n",
       "      <td>53</td>\n",
       "      <td>37</td>\n",
       "      <td>40</td>\n",
       "      <td>77</td>\n",
       "      <td>34</td>\n",
       "      <td>58</td>\n",
       "      <td>18</td>\n",
       "      <td>22</td>\n",
       "      <td>30</td>\n",
       "      <td>24</td>\n",
       "      <td>45</td>\n",
       "    </tr>\n",
       "    <tr>\n",
       "      <th>2</th>\n",
       "      <td>03aberrans</td>\n",
       "      <td>aberrans</td>\n",
       "      <td>63</td>\n",
       "      <td>61</td>\n",
       "      <td>41</td>\n",
       "      <td>48</td>\n",
       "      <td>89</td>\n",
       "      <td>40</td>\n",
       "      <td>65</td>\n",
       "      <td>22</td>\n",
       "      <td>25</td>\n",
       "      <td>38</td>\n",
       "      <td>28</td>\n",
       "      <td>55</td>\n",
       "    </tr>\n",
       "    <tr>\n",
       "      <th>3</th>\n",
       "      <td>01excavata</td>\n",
       "      <td>aberrans</td>\n",
       "      <td>57</td>\n",
       "      <td>55</td>\n",
       "      <td>37</td>\n",
       "      <td>44</td>\n",
       "      <td>82</td>\n",
       "      <td>39</td>\n",
       "      <td>56</td>\n",
       "      <td>20</td>\n",
       "      <td>25</td>\n",
       "      <td>33</td>\n",
       "      <td>22</td>\n",
       "      <td>48</td>\n",
       "    </tr>\n",
       "    <tr>\n",
       "      <th>4</th>\n",
       "      <td>02excavata</td>\n",
       "      <td>aberrans</td>\n",
       "      <td>53</td>\n",
       "      <td>52</td>\n",
       "      <td>35</td>\n",
       "      <td>41</td>\n",
       "      <td>75</td>\n",
       "      <td>35</td>\n",
       "      <td>50</td>\n",
       "      <td>17</td>\n",
       "      <td>22</td>\n",
       "      <td>30</td>\n",
       "      <td>21</td>\n",
       "      <td>43</td>\n",
       "    </tr>\n",
       "    <tr>\n",
       "      <th>5</th>\n",
       "      <td>01froggatti</td>\n",
       "      <td>aberrans</td>\n",
       "      <td>66</td>\n",
       "      <td>61</td>\n",
       "      <td>45</td>\n",
       "      <td>51</td>\n",
       "      <td>95</td>\n",
       "      <td>42</td>\n",
       "      <td>66</td>\n",
       "      <td>23</td>\n",
       "      <td>27</td>\n",
       "      <td>40</td>\n",
       "      <td>25</td>\n",
       "      <td>55</td>\n",
       "    </tr>\n",
       "    <tr>\n",
       "      <th>6</th>\n",
       "      <td>01maura</td>\n",
       "      <td>aberrans</td>\n",
       "      <td>69</td>\n",
       "      <td>67</td>\n",
       "      <td>43</td>\n",
       "      <td>50</td>\n",
       "      <td>90</td>\n",
       "      <td>44</td>\n",
       "      <td>69</td>\n",
       "      <td>25</td>\n",
       "      <td>27</td>\n",
       "      <td>40</td>\n",
       "      <td>26</td>\n",
       "      <td>59</td>\n",
       "    </tr>\n",
       "    <tr>\n",
       "      <th>7</th>\n",
       "      <td>02maura</td>\n",
       "      <td>aberrans</td>\n",
       "      <td>62</td>\n",
       "      <td>62</td>\n",
       "      <td>41</td>\n",
       "      <td>45</td>\n",
       "      <td>88</td>\n",
       "      <td>40</td>\n",
       "      <td>65</td>\n",
       "      <td>21</td>\n",
       "      <td>25</td>\n",
       "      <td>37</td>\n",
       "      <td>22</td>\n",
       "      <td>55</td>\n",
       "    </tr>\n",
       "    <tr>\n",
       "      <th>9</th>\n",
       "      <td>01forrnosa</td>\n",
       "      <td>aberrans</td>\n",
       "      <td>62</td>\n",
       "      <td>60</td>\n",
       "      <td>41</td>\n",
       "      <td>47</td>\n",
       "      <td>87</td>\n",
       "      <td>40</td>\n",
       "      <td>65</td>\n",
       "      <td>20</td>\n",
       "      <td>24</td>\n",
       "      <td>34</td>\n",
       "      <td>25</td>\n",
       "      <td>48</td>\n",
       "    </tr>\n",
       "  </tbody>\n",
       "</table>\n",
       "</div>"
      ],
      "text/plain": [
       "  ID-SpeciesName   SPGroup  HW  HL  SL  ML  WL PrW HFL PtW PtL Ppw PpL  GW\n",
       "0     01aberrans  aberrans  59  58  40  47  84  40  60  20  25  34  26  50\n",
       "1     02aberrans  aberrans  53  53  37  40  77  34  58  18  22  30  24  45\n",
       "2     03aberrans  aberrans  63  61  41  48  89  40  65  22  25  38  28  55\n",
       "3     01excavata  aberrans  57  55  37  44  82  39  56  20  25  33  22  48\n",
       "4     02excavata  aberrans  53  52  35  41  75  35  50  17  22  30  21  43\n",
       "5    01froggatti  aberrans  66  61  45  51  95  42  66  23  27  40  25  55\n",
       "6        01maura  aberrans  69  67  43  50  90  44  69  25  27  40  26  59\n",
       "7        02maura  aberrans  62  62  41  45  88  40  65  21  25  37  22  55\n",
       "9     01forrnosa  aberrans  62  60  41  47  87  40  65  20  24  34  25  48"
      ]
     },
     "execution_count": 5,
     "metadata": {},
     "output_type": "execute_result"
    }
   ],
   "source": [
    "#欠損値を除外\n",
    "myrmesia_remNan = myrmesia_nan.dropna(axis=0)\n",
    "myrmesia_remNan.head(9)"
   ]
  },
  {
   "cell_type": "code",
   "execution_count": 6,
   "metadata": {
    "collapsed": false,
    "scrolled": true
   },
   "outputs": [
    {
     "data": {
      "text/html": [
       "<div>\n",
       "<table border=\"1\" class=\"dataframe\">\n",
       "  <thead>\n",
       "    <tr style=\"text-align: right;\">\n",
       "      <th></th>\n",
       "      <th>HW</th>\n",
       "      <th>HL</th>\n",
       "      <th>SL</th>\n",
       "      <th>ML</th>\n",
       "      <th>WL</th>\n",
       "      <th>PrW</th>\n",
       "      <th>HFL</th>\n",
       "      <th>PtW</th>\n",
       "      <th>PtL</th>\n",
       "      <th>Ppw</th>\n",
       "      <th>PpL</th>\n",
       "      <th>GW</th>\n",
       "    </tr>\n",
       "  </thead>\n",
       "  <tbody>\n",
       "    <tr>\n",
       "      <th>0</th>\n",
       "      <td>59</td>\n",
       "      <td>58</td>\n",
       "      <td>40</td>\n",
       "      <td>47</td>\n",
       "      <td>84</td>\n",
       "      <td>40</td>\n",
       "      <td>60</td>\n",
       "      <td>20</td>\n",
       "      <td>25</td>\n",
       "      <td>34</td>\n",
       "      <td>26</td>\n",
       "      <td>50</td>\n",
       "    </tr>\n",
       "    <tr>\n",
       "      <th>1</th>\n",
       "      <td>53</td>\n",
       "      <td>53</td>\n",
       "      <td>37</td>\n",
       "      <td>40</td>\n",
       "      <td>77</td>\n",
       "      <td>34</td>\n",
       "      <td>58</td>\n",
       "      <td>18</td>\n",
       "      <td>22</td>\n",
       "      <td>30</td>\n",
       "      <td>24</td>\n",
       "      <td>45</td>\n",
       "    </tr>\n",
       "    <tr>\n",
       "      <th>2</th>\n",
       "      <td>63</td>\n",
       "      <td>61</td>\n",
       "      <td>41</td>\n",
       "      <td>48</td>\n",
       "      <td>89</td>\n",
       "      <td>40</td>\n",
       "      <td>65</td>\n",
       "      <td>22</td>\n",
       "      <td>25</td>\n",
       "      <td>38</td>\n",
       "      <td>28</td>\n",
       "      <td>55</td>\n",
       "    </tr>\n",
       "    <tr>\n",
       "      <th>3</th>\n",
       "      <td>57</td>\n",
       "      <td>55</td>\n",
       "      <td>37</td>\n",
       "      <td>44</td>\n",
       "      <td>82</td>\n",
       "      <td>39</td>\n",
       "      <td>56</td>\n",
       "      <td>20</td>\n",
       "      <td>25</td>\n",
       "      <td>33</td>\n",
       "      <td>22</td>\n",
       "      <td>48</td>\n",
       "    </tr>\n",
       "    <tr>\n",
       "      <th>4</th>\n",
       "      <td>53</td>\n",
       "      <td>52</td>\n",
       "      <td>35</td>\n",
       "      <td>41</td>\n",
       "      <td>75</td>\n",
       "      <td>35</td>\n",
       "      <td>50</td>\n",
       "      <td>17</td>\n",
       "      <td>22</td>\n",
       "      <td>30</td>\n",
       "      <td>21</td>\n",
       "      <td>43</td>\n",
       "    </tr>\n",
       "  </tbody>\n",
       "</table>\n",
       "</div>"
      ],
      "text/plain": [
       "   HW  HL  SL  ML  WL PrW HFL PtW PtL Ppw PpL  GW\n",
       "0  59  58  40  47  84  40  60  20  25  34  26  50\n",
       "1  53  53  37  40  77  34  58  18  22  30  24  45\n",
       "2  63  61  41  48  89  40  65  22  25  38  28  55\n",
       "3  57  55  37  44  82  39  56  20  25  33  22  48\n",
       "4  53  52  35  41  75  35  50  17  22  30  21  43"
      ]
     },
     "execution_count": 6,
     "metadata": {},
     "output_type": "execute_result"
    }
   ],
   "source": [
    "myrmesia_remNan.loc[:,\"HW\":].head()"
   ]
  },
  {
   "cell_type": "markdown",
   "metadata": {},
   "source": [
    "量的データをint型にする．"
   ]
  },
  {
   "cell_type": "code",
   "execution_count": 7,
   "metadata": {
    "collapsed": false,
    "scrolled": false
   },
   "outputs": [
    {
     "data": {
      "text/plain": [
       "ID-SpeciesName    object\n",
       "SPGroup           object\n",
       "HW                 int32\n",
       "HL                 int32\n",
       "SL                 int32\n",
       "ML                 int32\n",
       "WL                 int32\n",
       "PrW                int32\n",
       "HFL                int32\n",
       "PtW                int32\n",
       "PtL                int32\n",
       "Ppw                int32\n",
       "PpL                int32\n",
       "GW                 int32\n",
       "dtype: object"
      ]
     },
     "execution_count": 7,
     "metadata": {},
     "output_type": "execute_result"
    }
   ],
   "source": [
    "# 数値データをintへ変換\n",
    "myrmesia_remNan_int = myrmesia_remNan.copy()\n",
    "myrmesia_remNan_int[[\"HW\", \"HL\", \"SL\", \"ML\", \"WL\", \"PrW\", \"HFL\", \"PtW\", \"PtL\", \"Ppw\", \"PpL\", \"GW\"]] = myrmesia_remNan.iloc[:, 2:].astype(int)\n",
    "myrmesia_remNan_int.dtypes"
   ]
  },
  {
   "cell_type": "code",
   "execution_count": 8,
   "metadata": {
    "collapsed": false
   },
   "outputs": [
    {
     "data": {
      "text/plain": [
       "99"
      ]
     },
     "execution_count": 8,
     "metadata": {},
     "output_type": "execute_result"
    }
   ],
   "source": [
    "# 標本数を確認\n",
    "n = myrmesia_remNan_int[\"ID-SpeciesName\"].count()\n",
    "n"
   ]
  },
  {
   "cell_type": "markdown",
   "metadata": {},
   "source": [
    "### (3)基本統計量を確認"
   ]
  },
  {
   "cell_type": "code",
   "execution_count": 9,
   "metadata": {
    "collapsed": false
   },
   "outputs": [
    {
     "data": {
      "text/html": [
       "<div>\n",
       "<table border=\"1\" class=\"dataframe\">\n",
       "  <thead>\n",
       "    <tr style=\"text-align: right;\">\n",
       "      <th></th>\n",
       "      <th>HW</th>\n",
       "      <th>HL</th>\n",
       "      <th>SL</th>\n",
       "      <th>ML</th>\n",
       "      <th>WL</th>\n",
       "      <th>PrW</th>\n",
       "      <th>HFL</th>\n",
       "      <th>PtW</th>\n",
       "      <th>PtL</th>\n",
       "      <th>Ppw</th>\n",
       "      <th>PpL</th>\n",
       "      <th>GW</th>\n",
       "    </tr>\n",
       "  </thead>\n",
       "  <tbody>\n",
       "    <tr>\n",
       "      <th>count</th>\n",
       "      <td>99.000000</td>\n",
       "      <td>99.000000</td>\n",
       "      <td>99.000000</td>\n",
       "      <td>99.000000</td>\n",
       "      <td>99.000000</td>\n",
       "      <td>99.000000</td>\n",
       "      <td>99.000000</td>\n",
       "      <td>99.000000</td>\n",
       "      <td>99.000000</td>\n",
       "      <td>99.000000</td>\n",
       "      <td>99.000000</td>\n",
       "      <td>99.000000</td>\n",
       "    </tr>\n",
       "    <tr>\n",
       "      <th>mean</th>\n",
       "      <td>48.949495</td>\n",
       "      <td>46.555556</td>\n",
       "      <td>39.979798</td>\n",
       "      <td>46.040404</td>\n",
       "      <td>78.656566</td>\n",
       "      <td>34.252525</td>\n",
       "      <td>57.888889</td>\n",
       "      <td>19.777778</td>\n",
       "      <td>24.171717</td>\n",
       "      <td>31.656566</td>\n",
       "      <td>22.484848</td>\n",
       "      <td>45.838384</td>\n",
       "    </tr>\n",
       "    <tr>\n",
       "      <th>std</th>\n",
       "      <td>9.190028</td>\n",
       "      <td>8.190615</td>\n",
       "      <td>7.492826</td>\n",
       "      <td>7.498189</td>\n",
       "      <td>12.686295</td>\n",
       "      <td>6.548630</td>\n",
       "      <td>11.203943</td>\n",
       "      <td>3.869176</td>\n",
       "      <td>3.953919</td>\n",
       "      <td>6.465231</td>\n",
       "      <td>4.250723</td>\n",
       "      <td>8.360142</td>\n",
       "    </tr>\n",
       "    <tr>\n",
       "      <th>min</th>\n",
       "      <td>23.000000</td>\n",
       "      <td>23.000000</td>\n",
       "      <td>19.000000</td>\n",
       "      <td>23.000000</td>\n",
       "      <td>41.000000</td>\n",
       "      <td>15.000000</td>\n",
       "      <td>29.000000</td>\n",
       "      <td>10.000000</td>\n",
       "      <td>14.000000</td>\n",
       "      <td>15.000000</td>\n",
       "      <td>10.000000</td>\n",
       "      <td>22.000000</td>\n",
       "    </tr>\n",
       "    <tr>\n",
       "      <th>25%</th>\n",
       "      <td>44.000000</td>\n",
       "      <td>43.000000</td>\n",
       "      <td>36.500000</td>\n",
       "      <td>43.000000</td>\n",
       "      <td>72.000000</td>\n",
       "      <td>30.000000</td>\n",
       "      <td>53.500000</td>\n",
       "      <td>18.000000</td>\n",
       "      <td>22.000000</td>\n",
       "      <td>28.000000</td>\n",
       "      <td>20.000000</td>\n",
       "      <td>41.500000</td>\n",
       "    </tr>\n",
       "    <tr>\n",
       "      <th>50%</th>\n",
       "      <td>49.000000</td>\n",
       "      <td>47.000000</td>\n",
       "      <td>40.000000</td>\n",
       "      <td>47.000000</td>\n",
       "      <td>82.000000</td>\n",
       "      <td>35.000000</td>\n",
       "      <td>59.000000</td>\n",
       "      <td>20.000000</td>\n",
       "      <td>25.000000</td>\n",
       "      <td>31.000000</td>\n",
       "      <td>23.000000</td>\n",
       "      <td>45.000000</td>\n",
       "    </tr>\n",
       "    <tr>\n",
       "      <th>75%</th>\n",
       "      <td>55.000000</td>\n",
       "      <td>50.000000</td>\n",
       "      <td>45.000000</td>\n",
       "      <td>50.000000</td>\n",
       "      <td>88.000000</td>\n",
       "      <td>39.000000</td>\n",
       "      <td>65.000000</td>\n",
       "      <td>22.500000</td>\n",
       "      <td>27.000000</td>\n",
       "      <td>35.500000</td>\n",
       "      <td>25.000000</td>\n",
       "      <td>50.000000</td>\n",
       "    </tr>\n",
       "    <tr>\n",
       "      <th>max</th>\n",
       "      <td>69.000000</td>\n",
       "      <td>67.000000</td>\n",
       "      <td>55.000000</td>\n",
       "      <td>63.000000</td>\n",
       "      <td>97.000000</td>\n",
       "      <td>48.000000</td>\n",
       "      <td>82.000000</td>\n",
       "      <td>29.000000</td>\n",
       "      <td>34.000000</td>\n",
       "      <td>47.000000</td>\n",
       "      <td>33.000000</td>\n",
       "      <td>67.000000</td>\n",
       "    </tr>\n",
       "  </tbody>\n",
       "</table>\n",
       "</div>"
      ],
      "text/plain": [
       "              HW         HL         SL         ML         WL        PrW  \\\n",
       "count  99.000000  99.000000  99.000000  99.000000  99.000000  99.000000   \n",
       "mean   48.949495  46.555556  39.979798  46.040404  78.656566  34.252525   \n",
       "std     9.190028   8.190615   7.492826   7.498189  12.686295   6.548630   \n",
       "min    23.000000  23.000000  19.000000  23.000000  41.000000  15.000000   \n",
       "25%    44.000000  43.000000  36.500000  43.000000  72.000000  30.000000   \n",
       "50%    49.000000  47.000000  40.000000  47.000000  82.000000  35.000000   \n",
       "75%    55.000000  50.000000  45.000000  50.000000  88.000000  39.000000   \n",
       "max    69.000000  67.000000  55.000000  63.000000  97.000000  48.000000   \n",
       "\n",
       "             HFL        PtW        PtL        Ppw        PpL         GW  \n",
       "count  99.000000  99.000000  99.000000  99.000000  99.000000  99.000000  \n",
       "mean   57.888889  19.777778  24.171717  31.656566  22.484848  45.838384  \n",
       "std    11.203943   3.869176   3.953919   6.465231   4.250723   8.360142  \n",
       "min    29.000000  10.000000  14.000000  15.000000  10.000000  22.000000  \n",
       "25%    53.500000  18.000000  22.000000  28.000000  20.000000  41.500000  \n",
       "50%    59.000000  20.000000  25.000000  31.000000  23.000000  45.000000  \n",
       "75%    65.000000  22.500000  27.000000  35.500000  25.000000  50.000000  \n",
       "max    82.000000  29.000000  34.000000  47.000000  33.000000  67.000000  "
      ]
     },
     "execution_count": 9,
     "metadata": {},
     "output_type": "execute_result"
    }
   ],
   "source": [
    "myrmesia_remNan_int.describe()"
   ]
  },
  {
   "cell_type": "markdown",
   "metadata": {},
   "source": [
    "散布行列をプロット"
   ]
  },
  {
   "cell_type": "code",
   "execution_count": 10,
   "metadata": {
    "collapsed": false
   },
   "outputs": [
    {
     "data": {
      "image/png": "[encoded data removed]",
      "text/plain": [
       "<matplotlib.figure.Figure at 0x260d77262b0>"
      ]
     },
     "metadata": {},
     "output_type": "display_data"
    }
   ],
   "source": [
    "%matplotlib inline\n",
    "\n",
    "pd.tools.plotting.scatter_matrix(myrmesia_remNan_int, figsize=(7,7), grid=True)\n",
    "plt.suptitle(\"Fig. ScatterMatrixPlot of myrmesia measurement\", y=0, fontsize=14)\n",
    "plt.show()"
   ]
  },
  {
   "cell_type": "markdown",
   "metadata": {},
   "source": [
    "どの変数も正の相関があることがわかる．"
   ]
  },
  {
   "cell_type": "markdown",
   "metadata": {},
   "source": [
    "相関係数行列"
   ]
  },
  {
   "cell_type": "code",
   "execution_count": 11,
   "metadata": {
    "collapsed": false
   },
   "outputs": [
    {
     "data": {
      "text/html": [
       "<div>\n",
       "<table border=\"1\" class=\"dataframe\">\n",
       "  <thead>\n",
       "    <tr style=\"text-align: right;\">\n",
       "      <th></th>\n",
       "      <th>HW</th>\n",
       "      <th>HL</th>\n",
       "      <th>SL</th>\n",
       "      <th>ML</th>\n",
       "      <th>WL</th>\n",
       "      <th>PrW</th>\n",
       "      <th>HFL</th>\n",
       "      <th>PtW</th>\n",
       "      <th>PtL</th>\n",
       "      <th>Ppw</th>\n",
       "      <th>PpL</th>\n",
       "      <th>GW</th>\n",
       "    </tr>\n",
       "  </thead>\n",
       "  <tbody>\n",
       "    <tr>\n",
       "      <th>HW</th>\n",
       "      <td>1.000000</td>\n",
       "      <td>0.959212</td>\n",
       "      <td>0.727289</td>\n",
       "      <td>0.779383</td>\n",
       "      <td>0.878143</td>\n",
       "      <td>0.956496</td>\n",
       "      <td>0.752532</td>\n",
       "      <td>0.823289</td>\n",
       "      <td>0.769129</td>\n",
       "      <td>0.882624</td>\n",
       "      <td>0.833379</td>\n",
       "      <td>0.926137</td>\n",
       "    </tr>\n",
       "    <tr>\n",
       "      <th>HL</th>\n",
       "      <td>0.959212</td>\n",
       "      <td>1.000000</td>\n",
       "      <td>0.711152</td>\n",
       "      <td>0.713412</td>\n",
       "      <td>0.866725</td>\n",
       "      <td>0.888452</td>\n",
       "      <td>0.767482</td>\n",
       "      <td>0.732271</td>\n",
       "      <td>0.747560</td>\n",
       "      <td>0.793887</td>\n",
       "      <td>0.786740</td>\n",
       "      <td>0.870408</td>\n",
       "    </tr>\n",
       "    <tr>\n",
       "      <th>SL</th>\n",
       "      <td>0.727289</td>\n",
       "      <td>0.711152</td>\n",
       "      <td>1.000000</td>\n",
       "      <td>0.873805</td>\n",
       "      <td>0.901756</td>\n",
       "      <td>0.728793</td>\n",
       "      <td>0.910752</td>\n",
       "      <td>0.625300</td>\n",
       "      <td>0.836738</td>\n",
       "      <td>0.601027</td>\n",
       "      <td>0.671827</td>\n",
       "      <td>0.755955</td>\n",
       "    </tr>\n",
       "    <tr>\n",
       "      <th>ML</th>\n",
       "      <td>0.779383</td>\n",
       "      <td>0.713412</td>\n",
       "      <td>0.873805</td>\n",
       "      <td>1.000000</td>\n",
       "      <td>0.848662</td>\n",
       "      <td>0.809835</td>\n",
       "      <td>0.764182</td>\n",
       "      <td>0.775155</td>\n",
       "      <td>0.857812</td>\n",
       "      <td>0.724168</td>\n",
       "      <td>0.802318</td>\n",
       "      <td>0.765176</td>\n",
       "    </tr>\n",
       "    <tr>\n",
       "      <th>WL</th>\n",
       "      <td>0.878143</td>\n",
       "      <td>0.866725</td>\n",
       "      <td>0.901756</td>\n",
       "      <td>0.848662</td>\n",
       "      <td>1.000000</td>\n",
       "      <td>0.886995</td>\n",
       "      <td>0.907666</td>\n",
       "      <td>0.743277</td>\n",
       "      <td>0.887321</td>\n",
       "      <td>0.788177</td>\n",
       "      <td>0.804483</td>\n",
       "      <td>0.883363</td>\n",
       "    </tr>\n",
       "    <tr>\n",
       "      <th>PrW</th>\n",
       "      <td>0.956496</td>\n",
       "      <td>0.888452</td>\n",
       "      <td>0.728793</td>\n",
       "      <td>0.809835</td>\n",
       "      <td>0.886995</td>\n",
       "      <td>1.000000</td>\n",
       "      <td>0.742914</td>\n",
       "      <td>0.891044</td>\n",
       "      <td>0.795159</td>\n",
       "      <td>0.943223</td>\n",
       "      <td>0.888162</td>\n",
       "      <td>0.949264</td>\n",
       "    </tr>\n",
       "    <tr>\n",
       "      <th>HFL</th>\n",
       "      <td>0.752532</td>\n",
       "      <td>0.767482</td>\n",
       "      <td>0.910752</td>\n",
       "      <td>0.764182</td>\n",
       "      <td>0.907666</td>\n",
       "      <td>0.742914</td>\n",
       "      <td>1.000000</td>\n",
       "      <td>0.596369</td>\n",
       "      <td>0.796040</td>\n",
       "      <td>0.623804</td>\n",
       "      <td>0.664276</td>\n",
       "      <td>0.784178</td>\n",
       "    </tr>\n",
       "    <tr>\n",
       "      <th>PtW</th>\n",
       "      <td>0.823289</td>\n",
       "      <td>0.732271</td>\n",
       "      <td>0.625300</td>\n",
       "      <td>0.775155</td>\n",
       "      <td>0.743277</td>\n",
       "      <td>0.891044</td>\n",
       "      <td>0.596369</td>\n",
       "      <td>1.000000</td>\n",
       "      <td>0.759568</td>\n",
       "      <td>0.927784</td>\n",
       "      <td>0.855986</td>\n",
       "      <td>0.876483</td>\n",
       "    </tr>\n",
       "    <tr>\n",
       "      <th>PtL</th>\n",
       "      <td>0.769129</td>\n",
       "      <td>0.747560</td>\n",
       "      <td>0.836738</td>\n",
       "      <td>0.857812</td>\n",
       "      <td>0.887321</td>\n",
       "      <td>0.795159</td>\n",
       "      <td>0.796040</td>\n",
       "      <td>0.759568</td>\n",
       "      <td>1.000000</td>\n",
       "      <td>0.714057</td>\n",
       "      <td>0.824946</td>\n",
       "      <td>0.776912</td>\n",
       "    </tr>\n",
       "    <tr>\n",
       "      <th>Ppw</th>\n",
       "      <td>0.882624</td>\n",
       "      <td>0.793887</td>\n",
       "      <td>0.601027</td>\n",
       "      <td>0.724168</td>\n",
       "      <td>0.788177</td>\n",
       "      <td>0.943223</td>\n",
       "      <td>0.623804</td>\n",
       "      <td>0.927784</td>\n",
       "      <td>0.714057</td>\n",
       "      <td>1.000000</td>\n",
       "      <td>0.868284</td>\n",
       "      <td>0.928559</td>\n",
       "    </tr>\n",
       "    <tr>\n",
       "      <th>PpL</th>\n",
       "      <td>0.833379</td>\n",
       "      <td>0.786740</td>\n",
       "      <td>0.671827</td>\n",
       "      <td>0.802318</td>\n",
       "      <td>0.804483</td>\n",
       "      <td>0.888162</td>\n",
       "      <td>0.664276</td>\n",
       "      <td>0.855986</td>\n",
       "      <td>0.824946</td>\n",
       "      <td>0.868284</td>\n",
       "      <td>1.000000</td>\n",
       "      <td>0.838961</td>\n",
       "    </tr>\n",
       "    <tr>\n",
       "      <th>GW</th>\n",
       "      <td>0.926137</td>\n",
       "      <td>0.870408</td>\n",
       "      <td>0.755955</td>\n",
       "      <td>0.765176</td>\n",
       "      <td>0.883363</td>\n",
       "      <td>0.949264</td>\n",
       "      <td>0.784178</td>\n",
       "      <td>0.876483</td>\n",
       "      <td>0.776912</td>\n",
       "      <td>0.928559</td>\n",
       "      <td>0.838961</td>\n",
       "      <td>1.000000</td>\n",
       "    </tr>\n",
       "  </tbody>\n",
       "</table>\n",
       "</div>"
      ],
      "text/plain": [
       "           HW        HL        SL        ML        WL       PrW       HFL  \\\n",
       "HW   1.000000  0.959212  0.727289  0.779383  0.878143  0.956496  0.752532   \n",
       "HL   0.959212  1.000000  0.711152  0.713412  0.866725  0.888452  0.767482   \n",
       "SL   0.727289  0.711152  1.000000  0.873805  0.901756  0.728793  0.910752   \n",
       "ML   0.779383  0.713412  0.873805  1.000000  0.848662  0.809835  0.764182   \n",
       "WL   0.878143  0.866725  0.901756  0.848662  1.000000  0.886995  0.907666   \n",
       "PrW  0.956496  0.888452  0.728793  0.809835  0.886995  1.000000  0.742914   \n",
       "HFL  0.752532  0.767482  0.910752  0.764182  0.907666  0.742914  1.000000   \n",
       "PtW  0.823289  0.732271  0.625300  0.775155  0.743277  0.891044  0.596369   \n",
       "PtL  0.769129  0.747560  0.836738  0.857812  0.887321  0.795159  0.796040   \n",
       "Ppw  0.882624  0.793887  0.601027  0.724168  0.788177  0.943223  0.623804   \n",
       "PpL  0.833379  0.786740  0.671827  0.802318  0.804483  0.888162  0.664276   \n",
       "GW   0.926137  0.870408  0.755955  0.765176  0.883363  0.949264  0.784178   \n",
       "\n",
       "          PtW       PtL       Ppw       PpL        GW  \n",
       "HW   0.823289  0.769129  0.882624  0.833379  0.926137  \n",
       "HL   0.732271  0.747560  0.793887  0.786740  0.870408  \n",
       "SL   0.625300  0.836738  0.601027  0.671827  0.755955  \n",
       "ML   0.775155  0.857812  0.724168  0.802318  0.765176  \n",
       "WL   0.743277  0.887321  0.788177  0.804483  0.883363  \n",
       "PrW  0.891044  0.795159  0.943223  0.888162  0.949264  \n",
       "HFL  0.596369  0.796040  0.623804  0.664276  0.784178  \n",
       "PtW  1.000000  0.759568  0.927784  0.855986  0.876483  \n",
       "PtL  0.759568  1.000000  0.714057  0.824946  0.776912  \n",
       "Ppw  0.927784  0.714057  1.000000  0.868284  0.928559  \n",
       "PpL  0.855986  0.824946  0.868284  1.000000  0.838961  \n",
       "GW   0.876483  0.776912  0.928559  0.838961  1.000000  "
      ]
     },
     "execution_count": 11,
     "metadata": {},
     "output_type": "execute_result"
    }
   ],
   "source": [
    "myrmesia_remNan_int.corr()"
   ]
  },
  {
   "cell_type": "markdown",
   "metadata": {},
   "source": [
    "### (3) statsmodels で回帰モデル"
   ]
  },
  {
   "cell_type": "markdown",
   "metadata": {},
   "source": [
    "R-likeにモデルを指定するには，\n",
    "\n",
    "```\n",
    "statsmodels.formula.api.ols\n",
    "```\n",
    "\n",
    "参考\n",
    "- http://statsmodels.sourceforge.net/devel/example_formulas.html"
   ]
  },
  {
   "cell_type": "code",
   "execution_count": 12,
   "metadata": {
    "collapsed": false,
    "scrolled": true
   },
   "outputs": [
    {
     "name": "stdout",
     "output_type": "stream",
     "text": [
      "\n",
      "        Create a Model from a formula and dataframe.\n",
      "\n",
      "        Parameters\n",
      "        ----------\n",
      "        formula : str or generic Formula object\n",
      "            The formula specifying the model\n",
      "        data : array-like\n",
      "            The data for the model. See Notes.\n",
      "        subset : array-like\n",
      "            An array-like object of booleans, integers, or index values that\n",
      "            indicate the subset of df to use in the model. Assumes df is a\n",
      "            `pandas.DataFrame`\n",
      "        args : extra arguments\n",
      "            These are passed to the model\n",
      "        kwargs : extra keyword arguments\n",
      "            These are passed to the model with one exception. The\n",
      "            ``eval_env`` keyword is passed to patsy. It can be either a\n",
      "            :class:`patsy:patsy.EvalEnvironment` object or an integer\n",
      "            indicating the depth of the namespace to use. For example, the\n",
      "            default ``eval_env=0`` uses the calling namespace. If you wish\n",
      "            to use a \"clean\" environment set ``eval_env=-1``.\n",
      "\n",
      "\n",
      "        Returns\n",
      "        -------\n",
      "        model : Model instance\n",
      "\n",
      "        Notes\n",
      "        ------\n",
      "        data must define __getitem__ with the keys in the formula terms\n",
      "        args and kwargs are passed on to the model instantiation. E.g.,\n",
      "        a numpy structured or rec array, a dictionary, or a pandas DataFrame.\n",
      "        \n"
     ]
    }
   ],
   "source": [
    "print(smf.ols.__doc__)"
   ]
  },
  {
   "cell_type": "code",
   "execution_count": 13,
   "metadata": {
    "collapsed": false,
    "scrolled": true
   },
   "outputs": [
    {
     "data": {
      "text/plain": [
       "<statsmodels.regression.linear_model.OLS at 0x260ddb5feb8>"
      ]
     },
     "execution_count": 13,
     "metadata": {},
     "output_type": "execute_result"
    }
   ],
   "source": [
    "lmodel = smf.ols('HW ~ HL + SL + ML + WL + PrW + HFL + PtW + PtL + Ppw + PpL + GW', data=myrmesia_remNan_int.loc[:, \"HW\":\"GW\"])\n",
    "lmodel"
   ]
  },
  {
   "cell_type": "code",
   "execution_count": 14,
   "metadata": {
    "collapsed": false
   },
   "outputs": [
    {
     "data": {
      "text/html": [
       "<table class=\"simpletable\">\n",
       "<caption>OLS Regression Results</caption>\n",
       "<tr>\n",
       "  <th>Dep. Variable:</th>           <td>HW</td>        <th>  R-squared:         </th> <td>   0.977</td>\n",
       "</tr>\n",
       "<tr>\n",
       "  <th>Model:</th>                   <td>OLS</td>       <th>  Adj. R-squared:    </th> <td>   0.974</td>\n",
       "</tr>\n",
       "<tr>\n",
       "  <th>Method:</th>             <td>Least Squares</td>  <th>  F-statistic:       </th> <td>   330.2</td>\n",
       "</tr>\n",
       "<tr>\n",
       "  <th>Date:</th>             <td>Sun, 01 Jan 2017</td> <th>  Prob (F-statistic):</th> <td>6.04e-66</td>\n",
       "</tr>\n",
       "<tr>\n",
       "  <th>Time:</th>                 <td>21:00:13</td>     <th>  Log-Likelihood:    </th> <td> -173.67</td>\n",
       "</tr>\n",
       "<tr>\n",
       "  <th>No. Observations:</th>      <td>    99</td>      <th>  AIC:               </th> <td>   371.3</td>\n",
       "</tr>\n",
       "<tr>\n",
       "  <th>Df Residuals:</th>          <td>    87</td>      <th>  BIC:               </th> <td>   402.5</td>\n",
       "</tr>\n",
       "<tr>\n",
       "  <th>Df Model:</th>              <td>    11</td>      <th>                     </th>     <td> </td>   \n",
       "</tr>\n",
       "<tr>\n",
       "  <th>Covariance Type:</th>      <td>nonrobust</td>    <th>                     </th>     <td> </td>   \n",
       "</tr>\n",
       "</table>\n",
       "<table class=\"simpletable\">\n",
       "<tr>\n",
       "      <td></td>         <th>coef</th>     <th>std err</th>      <th>t</th>      <th>P>|t|</th> <th>[95.0% Conf. Int.]</th> \n",
       "</tr>\n",
       "<tr>\n",
       "  <th>Intercept</th> <td>   -2.1434</td> <td>    1.130</td> <td>   -1.897</td> <td> 0.061</td> <td>   -4.389     0.102</td>\n",
       "</tr>\n",
       "<tr>\n",
       "  <th>HL</th>        <td>    0.6395</td> <td>    0.048</td> <td>   13.389</td> <td> 0.000</td> <td>    0.545     0.734</td>\n",
       "</tr>\n",
       "<tr>\n",
       "  <th>SL</th>        <td>    0.0286</td> <td>    0.083</td> <td>    0.345</td> <td> 0.731</td> <td>   -0.136     0.193</td>\n",
       "</tr>\n",
       "<tr>\n",
       "  <th>ML</th>        <td>    0.1405</td> <td>    0.063</td> <td>    2.247</td> <td> 0.027</td> <td>    0.016     0.265</td>\n",
       "</tr>\n",
       "<tr>\n",
       "  <th>WL</th>        <td>   -0.0924</td> <td>    0.059</td> <td>   -1.556</td> <td> 0.123</td> <td>   -0.210     0.026</td>\n",
       "</tr>\n",
       "<tr>\n",
       "  <th>PrW</th>       <td>    0.6575</td> <td>    0.119</td> <td>    5.544</td> <td> 0.000</td> <td>    0.422     0.893</td>\n",
       "</tr>\n",
       "<tr>\n",
       "  <th>HFL</th>       <td>   -0.0437</td> <td>    0.041</td> <td>   -1.066</td> <td> 0.289</td> <td>   -0.125     0.038</td>\n",
       "</tr>\n",
       "<tr>\n",
       "  <th>PtW</th>       <td>   -0.1563</td> <td>    0.134</td> <td>   -1.170</td> <td> 0.245</td> <td>   -0.422     0.109</td>\n",
       "</tr>\n",
       "<tr>\n",
       "  <th>PtL</th>       <td>    0.0281</td> <td>    0.110</td> <td>    0.256</td> <td> 0.798</td> <td>   -0.190     0.246</td>\n",
       "</tr>\n",
       "<tr>\n",
       "  <th>Ppw</th>       <td>    0.0996</td> <td>    0.115</td> <td>    0.868</td> <td> 0.388</td> <td>   -0.128     0.328</td>\n",
       "</tr>\n",
       "<tr>\n",
       "  <th>PpL</th>       <td>   -0.2194</td> <td>    0.095</td> <td>   -2.305</td> <td> 0.024</td> <td>   -0.409    -0.030</td>\n",
       "</tr>\n",
       "<tr>\n",
       "  <th>GW</th>        <td>    0.1130</td> <td>    0.082</td> <td>    1.379</td> <td> 0.171</td> <td>   -0.050     0.276</td>\n",
       "</tr>\n",
       "</table>\n",
       "<table class=\"simpletable\">\n",
       "<tr>\n",
       "  <th>Omnibus:</th>       <td> 0.242</td> <th>  Durbin-Watson:     </th> <td>   1.567</td>\n",
       "</tr>\n",
       "<tr>\n",
       "  <th>Prob(Omnibus):</th> <td> 0.886</td> <th>  Jarque-Bera (JB):  </th> <td>   0.066</td>\n",
       "</tr>\n",
       "<tr>\n",
       "  <th>Skew:</th>          <td>-0.059</td> <th>  Prob(JB):          </th> <td>   0.967</td>\n",
       "</tr>\n",
       "<tr>\n",
       "  <th>Kurtosis:</th>      <td> 3.045</td> <th>  Cond. No.          </th> <td>1.11e+03</td>\n",
       "</tr>\n",
       "</table>"
      ],
      "text/plain": [
       "<class 'statsmodels.iolib.summary.Summary'>\n",
       "\"\"\"\n",
       "                            OLS Regression Results                            \n",
       "==============================================================================\n",
       "Dep. Variable:                     HW   R-squared:                       0.977\n",
       "Model:                            OLS   Adj. R-squared:                  0.974\n",
       "Method:                 Least Squares   F-statistic:                     330.2\n",
       "Date:                Sun, 01 Jan 2017   Prob (F-statistic):           6.04e-66\n",
       "Time:                        21:00:13   Log-Likelihood:                -173.67\n",
       "No. Observations:                  99   AIC:                             371.3\n",
       "Df Residuals:                      87   BIC:                             402.5\n",
       "Df Model:                          11                                         \n",
       "Covariance Type:            nonrobust                                         \n",
       "==============================================================================\n",
       "                 coef    std err          t      P>|t|      [95.0% Conf. Int.]\n",
       "------------------------------------------------------------------------------\n",
       "Intercept     -2.1434      1.130     -1.897      0.061        -4.389     0.102\n",
       "HL             0.6395      0.048     13.389      0.000         0.545     0.734\n",
       "SL             0.0286      0.083      0.345      0.731        -0.136     0.193\n",
       "ML             0.1405      0.063      2.247      0.027         0.016     0.265\n",
       "WL            -0.0924      0.059     -1.556      0.123        -0.210     0.026\n",
       "PrW            0.6575      0.119      5.544      0.000         0.422     0.893\n",
       "HFL           -0.0437      0.041     -1.066      0.289        -0.125     0.038\n",
       "PtW           -0.1563      0.134     -1.170      0.245        -0.422     0.109\n",
       "PtL            0.0281      0.110      0.256      0.798        -0.190     0.246\n",
       "Ppw            0.0996      0.115      0.868      0.388        -0.128     0.328\n",
       "PpL           -0.2194      0.095     -2.305      0.024        -0.409    -0.030\n",
       "GW             0.1130      0.082      1.379      0.171        -0.050     0.276\n",
       "==============================================================================\n",
       "Omnibus:                        0.242   Durbin-Watson:                   1.567\n",
       "Prob(Omnibus):                  0.886   Jarque-Bera (JB):                0.066\n",
       "Skew:                          -0.059   Prob(JB):                        0.967\n",
       "Kurtosis:                       3.045   Cond. No.                     1.11e+03\n",
       "==============================================================================\n",
       "\n",
       "Warnings:\n",
       "[1] Standard Errors assume that the covariance matrix of the errors is correctly specified.\n",
       "[2] The condition number is large, 1.11e+03. This might indicate that there are\n",
       "strong multicollinearity or other numerical problems.\n",
       "\"\"\""
      ]
     },
     "execution_count": 14,
     "metadata": {},
     "output_type": "execute_result"
    }
   ],
   "source": [
    "fit = lmodel.fit()\n",
    "fit.summary()"
   ]
  },
  {
   "cell_type": "markdown",
   "metadata": {},
   "source": [
    "変数をすべて（$12$個）含んだ回帰式の性能は，\n",
    "\n",
    "- 寄与率 $0.977$\n",
    "- 自由度調整済寄与率 $0.97365$\n",
    "- $AIC(12) = 371.3$"
   ]
  },
  {
   "cell_type": "code",
   "execution_count": 15,
   "metadata": {
    "collapsed": false,
    "scrolled": false
   },
   "outputs": [
    {
     "data": {
      "text/plain": [
       "0.97365260334015702"
      ]
     },
     "execution_count": 15,
     "metadata": {},
     "output_type": "execute_result"
    }
   ],
   "source": [
    "fit.rsquared_adj"
   ]
  },
  {
   "cell_type": "code",
   "execution_count": 16,
   "metadata": {
    "collapsed": false
   },
   "outputs": [
    {
     "data": {
      "text/plain": [
       "371.34322280217464"
      ]
     },
     "execution_count": 16,
     "metadata": {},
     "output_type": "execute_result"
    }
   ],
   "source": [
    "fit.aic"
   ]
  },
  {
   "cell_type": "markdown",
   "metadata": {},
   "source": [
    "### 変数選択"
   ]
  },
  {
   "cell_type": "markdown",
   "metadata": {},
   "source": [
    "AICを使って，変数選択を行う．\n",
    "\n",
    "stastmodels \n",
    "\n",
    "定数項ありでは， \n",
    " \n",
    "$$\n",
    "AIC(df_{model}) = -2 \\ln{lf} + 2(df_{model} + 1).\n",
    "$$\n",
    "\n",
    "多項式の回帰より，おそらく\n",
    "\n",
    "$$\n",
    "AIC(p) = n \\ln (2\\pi \\frac{S_e}{n}) + n + 2p\n",
    "$$\n",
    "\n",
    "- $p$: 自由パラメータ数\n",
    " \n",
    " http://statsmodels.sourceforge.net/devel/generated/statsmodels.regression.linear_model.RegressionResults.html"
   ]
  },
  {
   "cell_type": "code",
   "execution_count": 17,
   "metadata": {
    "collapsed": true
   },
   "outputs": [],
   "source": [
    "def AIC_polynomial(n, p, Se):\n",
    "    return n * sp.log(2 * sp.pi * Se / n) + n + 2 * p"
   ]
  },
  {
   "cell_type": "markdown",
   "metadata": {},
   "source": [
    "残差平方和は，`fit()`関数の返り値\n",
    "\n",
    "```\n",
    "statsmodels.regression.linear_model.RegressionResults.ssr\n",
    "\n",
    "```\n",
    "\n",
    "で求められる．"
   ]
  },
  {
   "cell_type": "code",
   "execution_count": 18,
   "metadata": {
    "collapsed": false
   },
   "outputs": [
    {
     "data": {
      "text/plain": [
       "371.34322280217464"
      ]
     },
     "execution_count": 18,
     "metadata": {},
     "output_type": "execute_result"
    }
   ],
   "source": [
    "AIC_polynomial(99, 12, fit.ssr)"
   ]
  },
  {
   "cell_type": "markdown",
   "metadata": {},
   "source": [
    "#### 欠損値なしデータから変数の候補を見つける"
   ]
  },
  {
   "cell_type": "markdown",
   "metadata": {},
   "source": [
    "欠損値なしデータから，AICの小さい順上位3位を見て変数の候補を見つける．\n",
    "\n",
    "Rにはstep関数で変数を総当たりして，\n",
    "AICの一番小さいモデルを求めてくれるが，statsmodelsには無いので自分で作る．"
   ]
  },
  {
   "cell_type": "code",
   "execution_count": 19,
   "metadata": {
    "collapsed": false
   },
   "outputs": [],
   "source": [
    "# 参考：http://stackoverflow.com/questions/22428625/does-statsmodels-or-another-python-package-offer-an-equivalent-to-rs-step-f\n",
    "\n",
    "import itertools\n",
    "\n",
    "def step(df, model):\n",
    "    '''\n",
    "    Returns:\n",
    "        - Dataframe:\n",
    "            index = pair exog\n",
    "            columns = AIC, F0, adj.R^2\n",
    "    '''\n",
    "    exog = sp.array(model.exog_names)\n",
    "    exog = exog[exog!=\"Intercept\"]\n",
    "    candi_exogs = []\n",
    "    AICs = []\n",
    "    for k in range(1,len(exog)+1):\n",
    "        for candi_exog in itertools.combinations(exog, k):\n",
    "            # Combination of exogs\n",
    "            predictors_df = df[list(candi_exog)].copy()           \n",
    "            predictors_df['Intercept'] = 1\n",
    "            res = sm.OLS(model.endog, predictors_df).fit()\n",
    "            candi_exogs.append(str(candi_exog))\n",
    "            AICs.append([res.aic, res.fvalue, res.rsquared_adj])\n",
    "    return pd.DataFrame(AICs, columns=[\"AIC\", \"F0\", \"R2_adj\"], index=candi_exogs)"
   ]
  },
  {
   "cell_type": "code",
   "execution_count": 20,
   "metadata": {
    "collapsed": false,
    "scrolled": false
   },
   "outputs": [
    {
     "data": {
      "text/html": [
       "<div>\n",
       "<table border=\"1\" class=\"dataframe\">\n",
       "  <thead>\n",
       "    <tr style=\"text-align: right;\">\n",
       "      <th></th>\n",
       "      <th>AIC</th>\n",
       "      <th>F0</th>\n",
       "      <th>R2_adj</th>\n",
       "    </tr>\n",
       "  </thead>\n",
       "  <tbody>\n",
       "    <tr>\n",
       "      <th>('HL', 'ML', 'WL', 'PrW', 'PpL', 'GW')</th>\n",
       "      <td>364.432664</td>\n",
       "      <td>620.074977</td>\n",
       "      <td>0.974295</td>\n",
       "    </tr>\n",
       "    <tr>\n",
       "      <th>('HL', 'ML', 'WL', 'PrW', 'HFL', 'PpL', 'GW')</th>\n",
       "      <td>365.106519</td>\n",
       "      <td>532.980602</td>\n",
       "      <td>0.974358</td>\n",
       "    </tr>\n",
       "    <tr>\n",
       "      <th>('HL', 'ML', 'WL', 'PrW', 'PpL')</th>\n",
       "      <td>365.163714</td>\n",
       "      <td>731.205548</td>\n",
       "      <td>0.973860</td>\n",
       "    </tr>\n",
       "    <tr>\n",
       "      <th>('HL', 'ML', 'WL', 'PrW', 'Ppw', 'PpL')</th>\n",
       "      <td>365.334548</td>\n",
       "      <td>614.312728</td>\n",
       "      <td>0.974060</td>\n",
       "    </tr>\n",
       "    <tr>\n",
       "      <th>('HL', 'ML', 'PrW', 'HFL', 'PpL', 'GW')</th>\n",
       "      <td>365.387105</td>\n",
       "      <td>613.978555</td>\n",
       "      <td>0.974046</td>\n",
       "    </tr>\n",
       "  </tbody>\n",
       "</table>\n",
       "</div>"
      ],
      "text/plain": [
       "                                                      AIC          F0  \\\n",
       "('HL', 'ML', 'WL', 'PrW', 'PpL', 'GW')         364.432664  620.074977   \n",
       "('HL', 'ML', 'WL', 'PrW', 'HFL', 'PpL', 'GW')  365.106519  532.980602   \n",
       "('HL', 'ML', 'WL', 'PrW', 'PpL')               365.163714  731.205548   \n",
       "('HL', 'ML', 'WL', 'PrW', 'Ppw', 'PpL')        365.334548  614.312728   \n",
       "('HL', 'ML', 'PrW', 'HFL', 'PpL', 'GW')        365.387105  613.978555   \n",
       "\n",
       "                                                 R2_adj  \n",
       "('HL', 'ML', 'WL', 'PrW', 'PpL', 'GW')         0.974295  \n",
       "('HL', 'ML', 'WL', 'PrW', 'HFL', 'PpL', 'GW')  0.974358  \n",
       "('HL', 'ML', 'WL', 'PrW', 'PpL')               0.973860  \n",
       "('HL', 'ML', 'WL', 'PrW', 'Ppw', 'PpL')        0.974060  \n",
       "('HL', 'ML', 'PrW', 'HFL', 'PpL', 'GW')        0.974046  "
      ]
     },
     "execution_count": 20,
     "metadata": {},
     "output_type": "execute_result"
    }
   ],
   "source": [
    "aic_df = step(myrmesia_remNan_int, lmodel)\n",
    "aic_df.sort_values(\"AIC\").head()"
   ]
  },
  {
   "cell_type": "markdown",
   "metadata": {},
   "source": [
    "AICが1番小さいモデルは $HL', 'ML', 'WL', 'PrW', 'PpL', 'GW'$であった．"
   ]
  },
  {
   "cell_type": "markdown",
   "metadata": {},
   "source": [
    "#### 候補変数から変数選択をする"
   ]
  },
  {
   "cell_type": "markdown",
   "metadata": {},
   "source": [
    "AICの小さい順で見ると\n",
    "\n",
    "- $HL, ML, WL, PrW, PpL, GW$ \n",
    "\n",
    "が選択される．\n",
    "\n"
   ]
  },
  {
   "cell_type": "code",
   "execution_count": 21,
   "metadata": {
    "collapsed": false,
    "scrolled": false
   },
   "outputs": [
    {
     "data": {
      "image/png": "[encoded data removed]",
      "text/plain": [
       "<matplotlib.figure.Figure at 0x260dc26cac8>"
      ]
     },
     "metadata": {},
     "output_type": "display_data"
    }
   ],
   "source": [
    "%matplotlib inline\n",
    "\n",
    "aic_df.plot(y=\"AIC\", grid=True, rot=90)\n",
    "# plt.xticks()\n",
    "plt.show()"
   ]
  },
  {
   "cell_type": "markdown",
   "metadata": {},
   "source": [
    "よって，\n",
    "\n",
    "変数は，\n",
    "\n",
    "- HL(Head Length):頭長\n",
    "- ML(Mandible Length): 大あご長\n",
    "- WL(Weber's Length of mesosoma): ウェーバーの胸長\n",
    "- PrW(Pronotal width): 前胸幅\n",
    "- PpL(Postpetiole Length): 後柄節長\n",
    "- GW(Gastral width):腹部幅\n",
    "\n",
    "が選ばれる．"
   ]
  },
  {
   "cell_type": "code",
   "execution_count": 22,
   "metadata": {
    "collapsed": false
   },
   "outputs": [
    {
     "data": {
      "text/html": [
       "<table class=\"simpletable\">\n",
       "<caption>OLS Regression Results</caption>\n",
       "<tr>\n",
       "  <th>Dep. Variable:</th>           <td>HW</td>        <th>  R-squared:         </th> <td>   0.976</td>\n",
       "</tr>\n",
       "<tr>\n",
       "  <th>Model:</th>                   <td>OLS</td>       <th>  Adj. R-squared:    </th> <td>   0.974</td>\n",
       "</tr>\n",
       "<tr>\n",
       "  <th>Method:</th>             <td>Least Squares</td>  <th>  F-statistic:       </th> <td>   620.1</td>\n",
       "</tr>\n",
       "<tr>\n",
       "  <th>Date:</th>             <td>Sun, 01 Jan 2017</td> <th>  Prob (F-statistic):</th> <td>4.27e-72</td>\n",
       "</tr>\n",
       "<tr>\n",
       "  <th>Time:</th>                 <td>21:00:19</td>     <th>  Log-Likelihood:    </th> <td> -175.22</td>\n",
       "</tr>\n",
       "<tr>\n",
       "  <th>No. Observations:</th>      <td>    99</td>      <th>  AIC:               </th> <td>   364.4</td>\n",
       "</tr>\n",
       "<tr>\n",
       "  <th>Df Residuals:</th>          <td>    92</td>      <th>  BIC:               </th> <td>   382.6</td>\n",
       "</tr>\n",
       "<tr>\n",
       "  <th>Df Model:</th>              <td>     6</td>      <th>                     </th>     <td> </td>   \n",
       "</tr>\n",
       "<tr>\n",
       "  <th>Covariance Type:</th>      <td>nonrobust</td>    <th>                     </th>     <td> </td>   \n",
       "</tr>\n",
       "</table>\n",
       "<table class=\"simpletable\">\n",
       "<tr>\n",
       "      <td></td>         <th>coef</th>     <th>std err</th>      <th>t</th>      <th>P>|t|</th> <th>[95.0% Conf. Int.]</th> \n",
       "</tr>\n",
       "<tr>\n",
       "  <th>Intercept</th> <td>   -1.9965</td> <td>    1.020</td> <td>   -1.957</td> <td> 0.053</td> <td>   -4.023     0.030</td>\n",
       "</tr>\n",
       "<tr>\n",
       "  <th>HL</th>        <td>    0.6304</td> <td>    0.044</td> <td>   14.299</td> <td> 0.000</td> <td>    0.543     0.718</td>\n",
       "</tr>\n",
       "<tr>\n",
       "  <th>ML</th>        <td>    0.1235</td> <td>    0.042</td> <td>    2.910</td> <td> 0.005</td> <td>    0.039     0.208</td>\n",
       "</tr>\n",
       "<tr>\n",
       "  <th>WL</th>        <td>   -0.1006</td> <td>    0.034</td> <td>   -2.980</td> <td> 0.004</td> <td>   -0.168    -0.034</td>\n",
       "</tr>\n",
       "<tr>\n",
       "  <th>PrW</th>       <td>    0.7042</td> <td>    0.094</td> <td>    7.525</td> <td> 0.000</td> <td>    0.518     0.890</td>\n",
       "</tr>\n",
       "<tr>\n",
       "  <th>PpL</th>       <td>   -0.2100</td> <td>    0.080</td> <td>   -2.611</td> <td> 0.011</td> <td>   -0.370    -0.050</td>\n",
       "</tr>\n",
       "<tr>\n",
       "  <th>GW</th>        <td>    0.0965</td> <td>    0.060</td> <td>    1.604</td> <td> 0.112</td> <td>   -0.023     0.216</td>\n",
       "</tr>\n",
       "</table>\n",
       "<table class=\"simpletable\">\n",
       "<tr>\n",
       "  <th>Omnibus:</th>       <td> 0.110</td> <th>  Durbin-Watson:     </th> <td>   1.522</td>\n",
       "</tr>\n",
       "<tr>\n",
       "  <th>Prob(Omnibus):</th> <td> 0.946</td> <th>  Jarque-Bera (JB):  </th> <td>   0.089</td>\n",
       "</tr>\n",
       "<tr>\n",
       "  <th>Skew:</th>          <td>-0.066</td> <th>  Prob(JB):          </th> <td>   0.956</td>\n",
       "</tr>\n",
       "<tr>\n",
       "  <th>Kurtosis:</th>      <td> 2.934</td> <th>  Cond. No.          </th> <td>    834.</td>\n",
       "</tr>\n",
       "</table>"
      ],
      "text/plain": [
       "<class 'statsmodels.iolib.summary.Summary'>\n",
       "\"\"\"\n",
       "                            OLS Regression Results                            \n",
       "==============================================================================\n",
       "Dep. Variable:                     HW   R-squared:                       0.976\n",
       "Model:                            OLS   Adj. R-squared:                  0.974\n",
       "Method:                 Least Squares   F-statistic:                     620.1\n",
       "Date:                Sun, 01 Jan 2017   Prob (F-statistic):           4.27e-72\n",
       "Time:                        21:00:19   Log-Likelihood:                -175.22\n",
       "No. Observations:                  99   AIC:                             364.4\n",
       "Df Residuals:                      92   BIC:                             382.6\n",
       "Df Model:                           6                                         \n",
       "Covariance Type:            nonrobust                                         \n",
       "==============================================================================\n",
       "                 coef    std err          t      P>|t|      [95.0% Conf. Int.]\n",
       "------------------------------------------------------------------------------\n",
       "Intercept     -1.9965      1.020     -1.957      0.053        -4.023     0.030\n",
       "HL             0.6304      0.044     14.299      0.000         0.543     0.718\n",
       "ML             0.1235      0.042      2.910      0.005         0.039     0.208\n",
       "WL            -0.1006      0.034     -2.980      0.004        -0.168    -0.034\n",
       "PrW            0.7042      0.094      7.525      0.000         0.518     0.890\n",
       "PpL           -0.2100      0.080     -2.611      0.011        -0.370    -0.050\n",
       "GW             0.0965      0.060      1.604      0.112        -0.023     0.216\n",
       "==============================================================================\n",
       "Omnibus:                        0.110   Durbin-Watson:                   1.522\n",
       "Prob(Omnibus):                  0.946   Jarque-Bera (JB):                0.089\n",
       "Skew:                          -0.066   Prob(JB):                        0.956\n",
       "Kurtosis:                       2.934   Cond. No.                         834.\n",
       "==============================================================================\n",
       "\n",
       "Warnings:\n",
       "[1] Standard Errors assume that the covariance matrix of the errors is correctly specified.\n",
       "\"\"\""
      ]
     },
     "execution_count": 22,
     "metadata": {},
     "output_type": "execute_result"
    }
   ],
   "source": [
    "opt_model = smf.ols(formula=\"HW ~ HL + ML + WL + PrW + PpL + GW\", data=myrmesia_remNan_int)\n",
    "opt_fit = opt_model.fit()\n",
    "opt_fit.summary()"
   ]
  },
  {
   "cell_type": "markdown",
   "metadata": {},
   "source": [
    "得られた回帰モデルは，\n",
    "\n",
    "$$\n",
    "\\hat{HW}\n",
    "= -2  + 0.6 HL + 0.1 ML -0.1 WL + 0.7 PrW-0.2 PpL + 0.1 GW\\\\\n",
    "= 0.1\\{(7 PrW + GW) + ((6HL + ML) - (WL+2PpL)) -20\\}  \n",
    "$$\n",
    "\n",
    "\n",
    "> <img  src=\"https://github.com/Cartman0/myrmesia_data/blob/master/img/myrmesia_region_measurement.jpg?raw=true\"/>\n",
    "> NagatomoNakamura, \"クラスター化の統計的評価とその応用\", 1995年3月, p.130 図9.1キバハリアリの計測部位"
   ]
  },
  {
   "cell_type": "markdown",
   "metadata": {},
   "source": [
    "### 残差とテコ比の検討"
   ]
  },
  {
   "cell_type": "code",
   "execution_count": 23,
   "metadata": {
    "collapsed": false,
    "scrolled": true
   },
   "outputs": [
    {
     "data": {
      "text/plain": [
       "array([-0.45576906,  1.1444672 ,  1.96988238, -0.33807619,  0.30901919,\n",
       "        3.16442489,  0.41826892, -0.65057716,  1.56832428,  0.20342627,\n",
       "        1.61806658, -3.72163041,  1.90696065,  3.48449919,  2.27455935,\n",
       "        3.19439921,  0.69648424,  1.5157547 ,  1.04443425,  1.49952413,\n",
       "        0.41286069,  0.21374802, -0.53741727,  0.6328259 , -0.25048092,\n",
       "       -2.09892916, -0.8600505 ,  1.83719344, -0.47307732, -2.02039444,\n",
       "       -0.90960982,  2.11728611,  1.43666809,  1.34137191,  1.06480831,\n",
       "        0.82906775, -1.05963765, -2.07827077,  0.06120305, -1.58849188,\n",
       "        0.02146714, -2.17327979, -1.71748133, -1.81777133,  0.59885921,\n",
       "        0.80396815, -0.91636554, -1.5751674 , -1.40877999,  1.37162967,\n",
       "       -0.94195909, -0.27961203,  0.29309229, -3.03675721, -0.82206293,\n",
       "       -2.58316865, -1.49050245,  0.9732535 , -1.01605154, -0.05997628,\n",
       "       -0.14797362,  1.44892035,  1.08087357, -0.10916979,  0.88090596,\n",
       "       -2.03139578, -1.50012409, -0.34857877, -0.77768774, -0.2809629 ,\n",
       "        0.98946081, -0.99386063, -0.41614385, -1.13253277,  0.4115977 ,\n",
       "       -2.07542301, -1.73566415, -0.7066592 , -1.05083525,  0.92849581,\n",
       "       -0.89290928,  1.42218974,  1.19157145, -0.32905909,  0.29474644,\n",
       "       -3.32318049, -0.1553292 , -1.05995036,  0.37540768,  0.22130472,\n",
       "        1.02823365,  0.11834984,  0.48178494,  1.41757095,  0.45429181,\n",
       "        0.56406073,  2.78132131,  0.40189638, -0.56599441])"
      ]
     },
     "execution_count": 23,
     "metadata": {},
     "output_type": "execute_result"
    }
   ],
   "source": [
    "# 残差\n",
    "e = opt_model.endog - opt_fit.predict()\n",
    "e"
   ]
  },
  {
   "cell_type": "code",
   "execution_count": 24,
   "metadata": {
    "collapsed": false
   },
   "outputs": [
    {
     "data": {
      "text/plain": [
       "199.73004101275788"
      ]
     },
     "execution_count": 24,
     "metadata": {},
     "output_type": "execute_result"
    }
   ],
   "source": [
    "# 残差平方和\n",
    "Se = opt_fit.ssr # equal sp.sum(e**2)\n",
    "Se"
   ]
  },
  {
   "cell_type": "code",
   "execution_count": 25,
   "metadata": {
    "collapsed": false
   },
   "outputs": [
    {
     "data": {
      "text/plain": [
       "2.1709787066604118"
      ]
     },
     "execution_count": 25,
     "metadata": {},
     "output_type": "execute_result"
    }
   ],
   "source": [
    "# 誤差の不偏分散\n",
    "Ve = opt_fit.scale # equal Se / (n - p -1)\n",
    "Ve"
   ]
  },
  {
   "cell_type": "code",
   "execution_count": 26,
   "metadata": {
    "collapsed": false
   },
   "outputs": [
    {
     "data": {
      "text/plain": [
       "array([-0.30932645,  0.77673982,  1.33694183, -0.22944934,  0.2097286 ,\n",
       "        2.14766733,  0.28387544, -0.44154099,  1.06440789,  0.13806362,\n",
       "        1.09816755, -2.52583781,  1.29423741,  2.36489893,  1.54372341,\n",
       "        2.16801063,  0.47269773,  1.02872937,  0.70884834,  1.01771383,\n",
       "        0.28020492,  0.1450689 , -0.36474037,  0.42949337, -0.16999919,\n",
       "       -1.42452475, -0.5837087 ,  1.24688702, -0.32107341, -1.37122393,\n",
       "       -0.61734418,  1.43698345,  0.97505399,  0.91037731,  0.72267603,\n",
       "        0.56268098, -0.71916675, -1.41050408,  0.04153797, -1.07809546,\n",
       "        0.01456956, -1.47498587, -1.16563947, -1.23370541,  0.40644048,\n",
       "        0.54564611, -0.62192923, -1.06905226, -0.95612658,  0.93091299,\n",
       "       -0.63929934, -0.18977023,  0.19891916, -2.06102039, -0.55792688,\n",
       "       -1.75317383, -1.01159089,  0.66053859, -0.68958524, -0.04070537,\n",
       "       -0.10042839,  0.98336949,  0.73357938, -0.07409258,  0.59786312,\n",
       "       -1.37869044, -1.01812102, -0.23657735, -0.52780983, -0.19068705,\n",
       "        0.67153835, -0.67452446, -0.28243317, -0.76864002,  0.27934774,\n",
       "       -1.40857133, -1.17797998, -0.47960338, -0.71319264,  0.63016194,\n",
       "       -0.60600967,  0.96522766,  0.80870905, -0.22332951,  0.20004181,\n",
       "       -2.25541335, -0.10542056, -0.71937898,  0.25478589,  0.15019757,\n",
       "        0.69785313,  0.080323  ,  0.3269832 ,  0.96209293,  0.30832385,\n",
       "        0.38282305,  1.8876583 ,  0.27276354, -0.38413543])"
      ]
     },
     "execution_count": 26,
     "metadata": {},
     "output_type": "execute_result"
    }
   ],
   "source": [
    "# 標準化残差\n",
    "e_std = e / sp.sqrt(Ve)\n",
    "e_std"
   ]
  },
  {
   "cell_type": "markdown",
   "metadata": {},
   "source": [
    "#### inflence plot"
   ]
  },
  {
   "cell_type": "markdown",
   "metadata": {},
   "source": [
    "http://statsmodels.sourceforge.net/devel/examples/notebooks/generated/regression_plots.html\n",
    "\n",
    "Influence plots show the (externally) **studentized residuals vs. the leverage of each observation** as measured by the hat matrix.\n",
    "\n",
    "- studentized residuals: スチューデント化残差（残差のt値）\n",
    "\n",
    "Externally studentized residuals are residuals that are scaled by their standard deviation where\n",
    "\n",
    "$$\n",
    "var(\\hat{\\epsilon}_i)=\\hat{\\sigma}^2_i(1-h_{ii})\n",
    "$$\n",
    "\n",
    "$$\n",
    "\\hat{\\sigma}^2_i=\\frac{1}{n - p - 1 \\;\\;}\\sum_{j}^{n}\\;\\;\\;\\forall \\;\\;\\; j \\neq i\n",
    "$$\n",
    "\n",
    "$n$ is the number of observations and \\(p\\) is the number of regressors.\n",
    "$h_{ii}$ is the \\(i\\)-th diagonal element of the hat matrix\n",
    "\n",
    "$$\n",
    "H=X(X^{\\;\\prime}X)^{-1}X^{\\;\\prime}\n",
    "$$\n",
    "\n",
    "Conductor and minister have both high leverage and large residuals, and, \n",
    "therefore, large influence.\n",
    "\n",
    "$$\n",
    "studentized residual = \\frac{e_i}{\\sqrt{(1- h_{ii})\\hat{\\sigma^2}}}\n",
    "$$"
   ]
  },
  {
   "cell_type": "markdown",
   "metadata": {},
   "source": [
    "- テコ比の観点からみると，\n",
    "\n",
    "テコ比の目安に\n",
    "\n",
    "$$\n",
    "h_{kk} < 2.5 \\times \\bar{h_{kk}} = 2.5 \\times \\frac{p+1}{n}\n",
    "$$\n",
    "\n",
    "がある，"
   ]
  },
  {
   "cell_type": "code",
   "execution_count": 27,
   "metadata": {
    "collapsed": false
   },
   "outputs": [
    {
     "data": {
      "text/plain": [
       "0.17676767676767677"
      ]
     },
     "execution_count": 27,
     "metadata": {},
     "output_type": "execute_result"
    }
   ],
   "source": [
    "2.5 * (6+1) / n"
   ]
  },
  {
   "cell_type": "code",
   "execution_count": 28,
   "metadata": {
    "collapsed": false
   },
   "outputs": [
    {
     "data": {
      "image/png": "[encoded data removed]",
      "text/plain": [
       "<matplotlib.figure.Figure at 0x260ddd87e10>"
      ]
     },
     "metadata": {},
     "output_type": "display_data"
    }
   ],
   "source": [
    "%matplotlib inline\n",
    "fig, ax = plt.subplots(figsize=(12,8))\n",
    "fig = sm.graphics.influence_plot(opt_fit, ax=ax)\n",
    "\n",
    "plt.hlines([-3, 3], 0, 0.5, colors=\"red\")\n",
    "plt.hlines([-2.5, 2.5], 0, 0.5, colors=\"yellow\")\n",
    "\n",
    "leverage_warning = 2.5 * (6+1) / n\n",
    "plt.vlines(leverage_warning, -3.5, 3.5, colors=\"red\")\n",
    "\n",
    "plt.grid()\n",
    "plt.xlim(0, 0.25)\n",
    "plt.ylim(-3.5, 3.5)\n",
    "plt.show()"
   ]
  },
  {
   "cell_type": "markdown",
   "metadata": {},
   "source": [
    "- 残差のt値の観点からみると，\n",
    "\n",
    "t分布の全体の$95\\%$から外れている標本は，\n",
    "\n",
    "$$\n",
    "num(e_t > t(\\alpha=0.05/2, df=\\phi_e)) = 7\n",
    "$$\n",
    "\n",
    "No. 5, 14, 16, 245, 193, 233, 12 である．"
   ]
  },
  {
   "cell_type": "code",
   "execution_count": 29,
   "metadata": {
    "collapsed": false
   },
   "outputs": [
    {
     "data": {
      "text/plain": [
       "1.9860863168388938"
      ]
     },
     "execution_count": 29,
     "metadata": {},
     "output_type": "execute_result"
    }
   ],
   "source": [
    "stats.t.isf(q=0.05/2, df=n-6-1)"
   ]
  },
  {
   "cell_type": "code",
   "execution_count": 30,
   "metadata": {
    "collapsed": false
   },
   "outputs": [
    {
     "data": {
      "text/plain": [
       "0.070707070707070704"
      ]
     },
     "execution_count": 30,
     "metadata": {},
     "output_type": "execute_result"
    }
   ],
   "source": [
    "7/n"
   ]
  },
  {
   "cell_type": "markdown",
   "metadata": {},
   "source": [
    "大きくずれているとは判断しない．"
   ]
  },
  {
   "cell_type": "markdown",
   "metadata": {},
   "source": [
    "テコ比の観点からみると，\n",
    "\n",
    "$$\n",
    "h_{kk} > 2.5 \\times \\bar{h_{kk}} = 0.17676\n",
    "$$\n",
    "\n",
    "モデルから大きく外れていると判断しない．"
   ]
  },
  {
   "cell_type": "markdown",
   "metadata": {},
   "source": [
    "##### テコ比の二乗プロット Leverage-Resid2 Plot"
   ]
  },
  {
   "cell_type": "markdown",
   "metadata": {},
   "source": [
    "http://statsmodels.sourceforge.net/devel/examples/notebooks/generated/regression_plots.html"
   ]
  },
  {
   "cell_type": "code",
   "execution_count": 31,
   "metadata": {
    "collapsed": false
   },
   "outputs": [
    {
     "data": {
      "image/png": "[encoded data removed]",
      "text/plain": [
       "<matplotlib.figure.Figure at 0x260dc495fd0>"
      ]
     },
     "metadata": {},
     "output_type": "display_data"
    }
   ],
   "source": [
    "%matplotlib inline\n",
    "\n",
    "fig, ax = plt.subplots(figsize=(8,6))\n",
    "sm.graphics.plot_leverage_resid2(opt_fit, ax=ax)\n",
    "plt.grid()\n",
    "plt.show()"
   ]
  },
  {
   "cell_type": "markdown",
   "metadata": {
    "collapsed": true
   },
   "source": [
    "### 回帰式の利用"
   ]
  },
  {
   "cell_type": "markdown",
   "metadata": {},
   "source": [
    "#### statsmodelでの予測区間をチェック"
   ]
  },
  {
   "cell_type": "markdown",
   "metadata": {},
   "source": [
    "http://statsmodels.sourceforge.net/devel/examples/notebooks/generated/ols.html"
   ]
  },
  {
   "cell_type": "code",
   "execution_count": 32,
   "metadata": {
    "collapsed": false
   },
   "outputs": [
    {
     "data": {
      "text/plain": [
       "99"
      ]
     },
     "execution_count": 32,
     "metadata": {},
     "output_type": "execute_result"
    }
   ],
   "source": [
    "len(opt_fit.predict())"
   ]
  },
  {
   "cell_type": "code",
   "execution_count": 33,
   "metadata": {
    "collapsed": false,
    "scrolled": true
   },
   "outputs": [
    {
     "name": "stdout",
     "output_type": "stream",
     "text": [
      "calculate standard deviation and confidence interval for prediction\n",
      "\n",
      "    applies to WLS and OLS, not to general GLS,\n",
      "    that is independently but not identically distributed observations\n",
      "\n",
      "    Parameters\n",
      "    ----------\n",
      "    res : regression result instance\n",
      "        results of WLS or OLS regression required attributes see notes\n",
      "    exog : array_like (optional)\n",
      "        exogenous variables for points to predict\n",
      "    weights : scalar or array_like (optional)\n",
      "        weights as defined for WLS (inverse of variance of observation)\n",
      "    alpha : float (default: alpha = 0.05)\n",
      "        confidence level for two-sided hypothesis\n",
      "\n",
      "    Returns\n",
      "    -------\n",
      "    predstd : array_like, 1d\n",
      "        standard error of prediction\n",
      "        same length as rows of exog\n",
      "    interval_l, interval_u : array_like\n",
      "        lower und upper confidence bounds\n",
      "\n",
      "    Notes\n",
      "    -----\n",
      "    The result instance needs to have at least the following\n",
      "    res.model.predict() : predicted values or\n",
      "    res.fittedvalues : values used in estimation\n",
      "    res.cov_params() : covariance matrix of parameter estimates\n",
      "\n",
      "    If exog is 1d, then it is interpreted as one observation,\n",
      "    i.e. a row vector.\n",
      "\n",
      "    testing status: not compared with other packages\n",
      "\n",
      "    References\n",
      "    ----------\n",
      "\n",
      "    Greene p.111 for OLS, extended to WLS by analogy\n",
      "\n",
      "    \n"
     ]
    }
   ],
   "source": [
    "from statsmodels.sandbox.regression.predstd import wls_prediction_std\n",
    "print(wls_prediction_std.__doc__)"
   ]
  },
  {
   "cell_type": "code",
   "execution_count": 34,
   "metadata": {
    "collapsed": false,
    "scrolled": true
   },
   "outputs": [
    {
     "name": "stdout",
     "output_type": "stream",
     "text": [
      "0      56.428328\n",
      "1      48.813746\n",
      "2      57.966608\n",
      "3      54.287337\n",
      "4      49.652609\n",
      "5      59.820461\n",
      "6      65.440679\n",
      "7      59.543331\n",
      "9      57.342655\n",
      "10     62.710921\n",
      "11     64.314174\n",
      "12     55.629091\n",
      "13     55.081792\n",
      "14     46.520321\n",
      "15     43.729353\n",
      "16     48.805830\n",
      "17     49.213168\n",
      "18     50.501777\n",
      "19     50.979771\n",
      "23     52.411092\n",
      "142    46.419312\n",
      "149    50.815912\n",
      "150    49.572571\n",
      "151    45.382171\n",
      "152    47.253704\n",
      "153    50.050765\n",
      "154    48.849873\n",
      "155    54.145220\n",
      "157    39.402125\n",
      "158    46.902481\n",
      "         ...    \n",
      "214    40.293192\n",
      "215    43.025659\n",
      "216    43.010622\n",
      "217    44.430996\n",
      "219    35.162666\n",
      "220    44.605423\n",
      "221    55.098431\n",
      "222    56.761871\n",
      "223    41.701600\n",
      "224    47.022426\n",
      "226    42.100115\n",
      "227    37.852190\n",
      "228    33.552965\n",
      "229    43.844771\n",
      "230    37.314934\n",
      "232    33.683980\n",
      "233    51.347037\n",
      "234    39.145681\n",
      "236    48.101525\n",
      "237    49.640641\n",
      "238    39.802467\n",
      "239    39.981143\n",
      "240    34.877651\n",
      "241    30.380795\n",
      "242    25.532088\n",
      "243    22.467463\n",
      "244    19.345381\n",
      "245    19.112368\n",
      "246    26.520143\n",
      "247    27.522325\n",
      "dtype: float64\n"
     ]
    },
    {
     "data": {
      "text/plain": [
       "99"
      ]
     },
     "execution_count": 34,
     "metadata": {},
     "output_type": "execute_result"
    }
   ],
   "source": [
    "predstd, interval_l, interval_u = wls_prediction_std(opt_fit)\n",
    "print(interval_l)\n",
    "len(interval_l)"
   ]
  },
  {
   "cell_type": "markdown",
   "metadata": {},
   "source": [
    "誤差棒付きでプロットする\n",
    "\n",
    "http://tkyma.hatenablog.jp/entry/2015/11/30/010054"
   ]
  },
  {
   "cell_type": "code",
   "execution_count": 35,
   "metadata": {
    "collapsed": false
   },
   "outputs": [
    {
     "data": {
      "image/png": "[encoded data removed]",
      "text/plain": [
       "<matplotlib.figure.Figure at 0x260d9d24f60>"
      ]
     },
     "metadata": {},
     "output_type": "display_data"
    }
   ],
   "source": [
    "%matplotlib inline\n",
    "plt.figure(figsize=(8, 4))\n",
    "\n",
    "predstd, interval_l, interval_u = wls_prediction_std(opt_fit, alpha=0.05)\n",
    "pred = opt_fit.predict()\n",
    "\n",
    "# data\n",
    "plt.scatter(sp.arange(len(pred)), opt_model.endog, label=\"data\")\n",
    "# prediction\n",
    "plt.errorbar(x=sp.arange(len(pred)), y=pred, yerr=(interval_u.values-pred), fmt='ro', label=\"95%conf. prediction\", color=\"red\")\n",
    "\n",
    "plt.grid()\n",
    "plt.xlim(-1, 100)\n",
    "plt.xlabel(\"Sample No.\")\n",
    "plt.ylabel(\"HW\")\n",
    "plt.legend(loc=3)\n",
    "plt.suptitle(\"predction plot input train data in model\", y=0)\n",
    "plt.tight_layout()\n",
    "plt.show()"
   ]
  },
  {
   "cell_type": "markdown",
   "metadata": {},
   "source": [
    "信頼率$95\\%$ の予測区間をみると，大きく外れている標本はないことを確認できる．"
   ]
  },
  {
   "cell_type": "markdown",
   "metadata": {},
   "source": [
    "#### 信頼区間,予測区間を計算して予測"
   ]
  },
  {
   "cell_type": "markdown",
   "metadata": {},
   "source": [
    "新たにキバハリアリによく似た標本を取得して，\n",
    "HW以外を測定できたとき，\n",
    "\n",
    "$$\n",
    "HL = 58, ML = 47, WL=84,PrW=40,Ppl=26, GW=50\n",
    "$$\n",
    "\n",
    "のとき，$HW$ はどのような値で予測できるか"
   ]
  },
  {
   "cell_type": "code",
   "execution_count": 36,
   "metadata": {
    "collapsed": false
   },
   "outputs": [
    {
     "data": {
      "text/plain": [
       "Intercept   -1.996450\n",
       "HL           0.630358\n",
       "ML           0.123491\n",
       "WL          -0.100579\n",
       "PrW          0.704231\n",
       "PpL         -0.209999\n",
       "GW           0.096536\n",
       "dtype: float64"
      ]
     },
     "execution_count": 36,
     "metadata": {},
     "output_type": "execute_result"
    }
   ],
   "source": [
    "opt_fit.params"
   ]
  },
  {
   "cell_type": "markdown",
   "metadata": {},
   "source": [
    "- 信頼区間\n",
    "\n",
    "$\\hat{\\beta_0}, \\hat{\\beta_1}, \\hat{\\beta_2}$ は統計量から，\n",
    "$\\hat{y}$ の推定式の統計量は，\n",
    "\n",
    "$$\n",
    "\\hat{HW} = \\hat{\\beta_0} + \\hat{\\beta_1} HL + \\hat{\\beta_2} ML + \\hat{\\beta_3}WL + \\hat{\\beta_4}PrW + \\hat{\\beta_5}PpL + \\hat{\\beta_6}GW\n",
    "\\sim\n",
    "N(\\beta_0 + \\beta_1 HL + \\beta_2 ML + \\beta_3 WL + \\beta_4 PrW + \\beta_5 PpL + \\beta_6 GW, \\{ \\frac{1}{n} + \\frac{D^2}{n-1} \\}\\sigma^2 )\n",
    "$$\n",
    "\n",
    "推定式は，\n",
    "\n",
    "$$\n",
    "\\hat{HW} = -2  + 0.6 HL + 0.1 ML -0.1 WL + 0.7 PrW-0.2 PpL + 0.1 GW\n",
    "$$\n",
    "\n",
    "信頼区間\n",
    "\n",
    "$$\n",
    "\\hat{y_0} \\pm t(\\phi_e, \\frac{\\alpha}{2}) \\sqrt{(\\frac{1}{n} + \\frac{D^2}{n-1}) \\hat{\\sigma^2}}\n",
    "$$\n",
    "\n",
    "マハラノビス距離の二乗は，\n",
    "\n",
    "$$\n",
    "    D^2 = (\\vec{x} - \\vec{\\mu})^T \\boldsymbol{\\Sigma}^{-1} (\\vec{x} - \\vec{\\mu})\n",
    "$$"
   ]
  },
  {
   "cell_type": "markdown",
   "metadata": {},
   "source": [
    "分散共分散行列を求める\n"
   ]
  },
  {
   "cell_type": "code",
   "execution_count": 37,
   "metadata": {
    "collapsed": false,
    "scrolled": true
   },
   "outputs": [
    {
     "data": {
      "text/plain": [
       "matrix([[  67.0861678 ,   43.81405896,   90.0600907 ,   47.65419501,\n",
       "           27.39115646,   59.60090703],\n",
       "        [  43.81405896,   56.22284065,   80.72830344,   39.76520305,\n",
       "           25.572047  ,   47.96578025],\n",
       "        [  90.0600907 ,   80.72830344,  160.9420738 ,   73.68965162,\n",
       "           43.38249845,   93.68882705],\n",
       "        [  47.65419501,   39.76520305,   73.68965162,   42.88455988,\n",
       "           24.72325294,   51.96980004],\n",
       "        [  27.39115646,   25.572047  ,   43.38249845,   24.72325294,\n",
       "           18.06864564,   29.81385281],\n",
       "        [  59.60090703,   47.96578025,   93.68882705,   51.96980004,\n",
       "           29.81385281,   69.89198103]])"
      ]
     },
     "execution_count": 37,
     "metadata": {},
     "output_type": "execute_result"
    }
   ],
   "source": [
    "# myrmesia_remNan_int[[\"HL\", \"ML\", \"WL\", \"PrW\", \"PpL\", \"GW\"]]\n",
    "Sigma = sp.asmatrix(myrmesia_remNan_int[[\"HL\", \"ML\", \"WL\", \"PrW\", \"PpL\", \"GW\"]].cov().as_matrix())\n",
    "Sigma"
   ]
  },
  {
   "cell_type": "code",
   "execution_count": 38,
   "metadata": {
    "collapsed": false
   },
   "outputs": [
    {
     "data": {
      "text/plain": [
       "(6, 6)"
      ]
     },
     "execution_count": 38,
     "metadata": {},
     "output_type": "execute_result"
    }
   ],
   "source": [
    "Sigma.shape"
   ]
  },
  {
   "cell_type": "code",
   "execution_count": 39,
   "metadata": {
    "collapsed": true
   },
   "outputs": [],
   "source": [
    "def Mahala2(vec_x, vec_mean, mat):\n",
    "    length = mat.shape[0]\n",
    "    vec = sp.asmatrix((vec_x - vec_mean).reshape(length, 1))\n",
    "    inv = sp.linalg.inv(mat)\n",
    "    mahala2 = vec.T.dot(inv.dot(vec))\n",
    "    return mahala2[0, 0]"
   ]
  },
  {
   "cell_type": "code",
   "execution_count": 40,
   "metadata": {
    "collapsed": false
   },
   "outputs": [
    {
     "data": {
      "text/plain": [
       "46.010425842783619"
      ]
     },
     "execution_count": 40,
     "metadata": {},
     "output_type": "execute_result"
    }
   ],
   "source": [
    "vec_mean = myrmesia_remNan_int[[\"HL\", \"ML\", \"WL\", \"PrW\", \"PpL\", \"GW\"]].mean()\n",
    "Mahala2([0,0,0,0,0,0], vec_mean, Sigma)"
   ]
  },
  {
   "cell_type": "markdown",
   "metadata": {},
   "source": [
    "信頼区間のプロット\n",
    "\n",
    "sample 1を例に予測\n",
    "\n"
   ]
  },
  {
   "cell_type": "code",
   "execution_count": 41,
   "metadata": {
    "collapsed": false,
    "run_control": {
     "marked": false
    }
   },
   "outputs": [
    {
     "data": {
      "text/plain": [
       "6.0"
      ]
     },
     "execution_count": 41,
     "metadata": {},
     "output_type": "execute_result"
    }
   ],
   "source": [
    "opt_fit.df_model"
   ]
  },
  {
   "cell_type": "code",
   "execution_count": 42,
   "metadata": {
    "collapsed": false
   },
   "outputs": [
    {
     "name": "stdout",
     "output_type": "stream",
     "text": [
      "\n",
      "        Call self.model.predict with self.params as the first argument.\n",
      "\n",
      "        Parameters\n",
      "        ----------\n",
      "        exog : array-like, optional\n",
      "            The values for which you want to predict.\n",
      "        transform : bool, optional\n",
      "            If the model was fit via a formula, do you want to pass\n",
      "            exog through the formula. Default is True. E.g., if you fit\n",
      "            a model y ~ log(x1) + log(x2), and transform is True, then\n",
      "            you can pass a data structure that contains x1 and x2 in\n",
      "            their original form. Otherwise, you'd need to log the data\n",
      "            first.\n",
      "        args, kwargs :\n",
      "            Some models can take additional arguments or keywords, see the\n",
      "            predict method of the model for the details.\n",
      "\n",
      "        Returns\n",
      "        -------\n",
      "        prediction : ndarray or pandas.Series\n",
      "            See self.model.predict\n",
      "\n",
      "        \n"
     ]
    }
   ],
   "source": [
    "print(opt_fit.predict.__doc__)"
   ]
  },
  {
   "cell_type": "code",
   "execution_count": 43,
   "metadata": {
    "collapsed": false
   },
   "outputs": [
    {
     "data": {
      "image/png": "[encoded data removed]",
      "text/plain": [
       "<matplotlib.figure.Figure at 0x260d9d78b00>"
      ]
     },
     "metadata": {},
     "output_type": "display_data"
    }
   ],
   "source": [
    "# HLを変えた予測値\n",
    "%matplotlib inline\n",
    "plt.figure(figsize=(4.5, 4.5))\n",
    "\n",
    "# plt.scatter(x1, y)\n",
    "\n",
    "hl_l = sp.linspace(20, 70, 100)\n",
    "hat_y = []\n",
    "# hl以外変数固定\n",
    "(ml, wl, prw, ppl, gw) = (47, 84, 40, 26, 50)\n",
    "for hl in hl_l:\n",
    "    X = sp.array([1, hl, ml, wl, prw, ppl, gw])\n",
    "    hat_y.append(X.dot(opt_fit.params))\n",
    "plt.plot(hl_l, hat_y)\n",
    "\n",
    "# interval\n",
    "phi_e = n - opt_fit.df_model - 1\n",
    "t_0025 = stats.t.isf(q=0.05/2, df=phi_e)\n",
    "# マハラノビス距離の二乗\n",
    "vec_mean = myrmesia_remNan_int[[\"HL\", \"ML\", \"WL\", \"PrW\", \"PpL\", \"GW\"]].mean() # 平均ベクトル\n",
    "D2 = []\n",
    "for hl in hl_l:\n",
    "    D2_0 = Mahala2([hl, ml, wl, prw, ppl, gw], vec_mean, Sigma)\n",
    "    D2.append(D2_0)\n",
    "D2 = sp.array(D2)\n",
    "\n",
    "interval095 = t_0025 * sp.sqrt((1/n + D2 / (n-1)) * opt_fit.scale)\n",
    "plt.plot(hl_l, hat_y - interval095, \"--g\", label=\"95% interval conf.\")\n",
    "plt.plot(hl_l, hat_y + interval095, \"--g\")\n",
    "\n",
    "pred_interval095 = t_0025 * sp.sqrt((1 + 1/n + D2 / (n-1)) * opt_fit.scale)\n",
    "plt.plot(hl_l, hat_y - pred_interval095, \"--r\", label=\"95% prediction conf.\")\n",
    "plt.plot(hl_l, hat_y + pred_interval095, \"--r\")\n",
    "\n",
    "# sample HL=58 のとき\n",
    "hl=58\n",
    "X = sp.array([1, hl, ml, wl, prw, ppl, gw])\n",
    "plt.scatter(hl, X.dot(opt_fit.params), color=\"k\", )\n",
    "\n",
    "plt.grid()\n",
    "plt.axis(\"scaled\")\n",
    "plt.xlim(20, 70)\n",
    "plt.ylim(20, 70)\n",
    "plt.xlabel(\"HL\")\n",
    "plt.ylabel(\"HW\")\n",
    "plt.title(\"plot Confidence in fixing ML, WL, PrW, PpL, GW\", y=- 0.2)\n",
    "plt.legend(loc=4)\n",
    "plt.tight_layout()\n",
    "plt.show()"
   ]
  },
  {
   "cell_type": "markdown",
   "metadata": {},
   "source": [
    "- 点推定\n",
    "\n",
    "$$\n",
    "\\hat{HW} = 59\n",
    "$$"
   ]
  },
  {
   "cell_type": "code",
   "execution_count": 44,
   "metadata": {
    "collapsed": false
   },
   "outputs": [
    {
     "data": {
      "text/plain": [
       "59.455769058482389"
      ]
     },
     "execution_count": 44,
     "metadata": {},
     "output_type": "execute_result"
    }
   ],
   "source": [
    "hl=58\n",
    "X = sp.array([1, hl, ml, wl, prw, ppl, gw])\n",
    "hat_y = X.dot(opt_fit.params)\n",
    "hat_y"
   ]
  },
  {
   "cell_type": "markdown",
   "metadata": {},
   "source": [
    "- 予測区間\n"
   ]
  },
  {
   "cell_type": "code",
   "execution_count": 45,
   "metadata": {
    "collapsed": false
   },
   "outputs": [
    {
     "data": {
      "text/plain": [
       "(56.428328347011877, 59.455769058482389, 62.4832097699529)"
      ]
     },
     "execution_count": 45,
     "metadata": {},
     "output_type": "execute_result"
    }
   ],
   "source": [
    "hl=58\n",
    "D2_0 = Mahala2([hl, ml, wl, prw, ppl, gw], vec_mean, Sigma)\n",
    "\n",
    "pred_interval095 = t_0025 * sp.sqrt((1 + 1/n + D2_0 / (n-1)) * opt_fit.scale)\n",
    "hat_y - pred_interval095, hat_y, hat_y + pred_interval095 "
   ]
  }
 ],
 "metadata": {
  "hide_input": false,
  "kernelspec": {
   "display_name": "Python 3",
   "language": "python",
   "name": "python3"
  },
  "language_info": {
   "codemirror_mode": {
    "name": "ipython",
    "version": 3
   },
   "file_extension": ".py",
   "mimetype": "text/x-python",
   "name": "python",
   "nbconvert_exporter": "python",
   "pygments_lexer": "ipython3",
   "version": "3.5.1"
  },
  "toc": {
   "toc_cell": true,
   "toc_number_sections": true,
   "toc_threshold": "6",
   "toc_window_display": false
  }
 },
 "nbformat": 4,
 "nbformat_minor": 0
}
